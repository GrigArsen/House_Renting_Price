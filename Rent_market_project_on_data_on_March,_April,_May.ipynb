{
  "nbformat": 4,
  "nbformat_minor": 0,
  "metadata": {
    "colab": {
      "name": "Rent market project on data on March, April, May.ipynb",
      "provenance": [],
      "collapsed_sections": [],
      "include_colab_link": true
    },
    "kernelspec": {
      "name": "python3",
      "display_name": "Python 3"
    }
  },
  "cells": [
    {
      "cell_type": "markdown",
      "metadata": {
        "id": "view-in-github",
        "colab_type": "text"
      },
      "source": [
        "<a href=\"https://colab.research.google.com/github/GrigArsen/House_Renting_Price/blob/master/Rent_market_project_on_data_on_March%2C_April%2C_May.ipynb\" target=\"_parent\"><img src=\"https://colab.research.google.com/assets/colab-badge.svg\" alt=\"Open In Colab\"/></a>"
      ]
    },
    {
      "cell_type": "code",
      "metadata": {
        "id": "hAnNkhzVwbAW",
        "colab_type": "code",
        "colab": {}
      },
      "source": [
        "#pandas for data manipulation, transformation\n",
        "import pandas as pd \n",
        "\n",
        "#visualization\n",
        "import matplotlib.pyplot as plt \n",
        "import seaborn as sns #visualization\n",
        "\n",
        "#for scientific computations\n",
        "import numpy as np \n",
        "from numpy import nan\n",
        "\n",
        "#for train and test split\n",
        "from sklearn.model_selection import train_test_split \n",
        "#model building\n",
        "import statsmodels.api as sm\n",
        "\n",
        "#internal validity stastistical tests and plots\n",
        "from statsmodels.api import qqplot #for qq plot\n",
        "from statsmodels.stats.diagnostic import het_breuschpagan,linear_rainbow  #variance equality and linearity tests\n",
        "from scipy.stats import shapiro #for checking normality\n",
        "from statsmodels.stats.outliers_influence import variance_inflation_factor #for checking Multicolinearity\n",
        "from sklearn.metrics import r2_score #R-squared\n",
        "from sklearn.metrics import *\n",
        "\n",
        "from collections import defaultdict\n",
        "\n",
        "#libraries for modelling and evaluation\n",
        "from sklearn.tree import DecisionTreeClassifier\n",
        "from sklearn.tree import plot_tree\n",
        "from sklearn.tree import DecisionTreeRegressor\n",
        "from sklearn.ensemble import RandomForestClassifier\n",
        "from sklearn.datasets import make_classification\n",
        "from sklearn.ensemble import RandomForestRegressor, GradientBoostingRegressor\n",
        "from sklearn.model_selection import train_test_split, GridSearchCV,cross_val_score\n",
        "from sklearn.metrics import roc_auc_score,roc_curve\n",
        "from sklearn.tree import plot_tree\n",
        "from sklearn.metrics import mean_squared_error\n",
        "from math import sqrt\n",
        "\n",
        "from sklearn.ensemble import GradientBoostingClassifier\n",
        "from numpy import loadtxt\n",
        "from xgboost import XGBClassifier\n",
        "from xgboost import plot_tree"
      ],
      "execution_count": 0,
      "outputs": []
    },
    {
      "cell_type": "code",
      "metadata": {
        "id": "6DNbhGH3xhxh",
        "colab_type": "code",
        "outputId": "ed24fc45-4bc7-479d-e2ef-cc8f7abb2e44",
        "colab": {
          "base_uri": "https://localhost:8080/",
          "height": 139
        }
      },
      "source": [
        "url1='https://raw.githubusercontent.com/nunehovasafyan/House-Renting-Price/master/merged_03_2020_rent_price.csv'\n",
        "data1=pd.read_csv(url1)\n",
        "url2='https://raw.githubusercontent.com/nunehovasafyan/House-Renting-Price/master/merged_04_2020_rent_price.csv'\n",
        "data2=pd.read_csv(url2)\n",
        "url3='https://raw.githubusercontent.com/nunehovasafyan/House-Renting-Price/master/merged_05_2020_rent_price.csv'\n",
        "data3=pd.read_csv(url3)"
      ],
      "execution_count": 102,
      "outputs": [
        {
          "output_type": "stream",
          "text": [
            "/usr/local/lib/python3.6/dist-packages/IPython/core/interactiveshell.py:2718: DtypeWarning: Columns (2,6) have mixed types.Specify dtype option on import or set low_memory=False.\n",
            "  interactivity=interactivity, compiler=compiler, result=result)\n",
            "/usr/local/lib/python3.6/dist-packages/IPython/core/interactiveshell.py:2718: DtypeWarning: Columns (5,13) have mixed types.Specify dtype option on import or set low_memory=False.\n",
            "  interactivity=interactivity, compiler=compiler, result=result)\n",
            "/usr/local/lib/python3.6/dist-packages/IPython/core/interactiveshell.py:2718: DtypeWarning: Columns (1,12) have mixed types.Specify dtype option on import or set low_memory=False.\n",
            "  interactivity=interactivity, compiler=compiler, result=result)\n"
          ],
          "name": "stderr"
        }
      ]
    },
    {
      "cell_type": "code",
      "metadata": {
        "id": "iBBspYDB1rWv",
        "colab_type": "code",
        "outputId": "6c45e50b-f227-4220-e692-dc8ad5bd86b3",
        "colab": {
          "base_uri": "https://localhost:8080/",
          "height": 439
        }
      },
      "source": [
        "data1['Month']='March'\n",
        "data1"
      ],
      "execution_count": 103,
      "outputs": [
        {
          "output_type": "execute_result",
          "data": {
            "text/html": [
              "<div>\n",
              "<style scoped>\n",
              "    .dataframe tbody tr th:only-of-type {\n",
              "        vertical-align: middle;\n",
              "    }\n",
              "\n",
              "    .dataframe tbody tr th {\n",
              "        vertical-align: top;\n",
              "    }\n",
              "\n",
              "    .dataframe thead th {\n",
              "        text-align: right;\n",
              "    }\n",
              "</style>\n",
              "<table border=\"1\" class=\"dataframe\">\n",
              "  <thead>\n",
              "    <tr style=\"text-align: right;\">\n",
              "      <th></th>\n",
              "      <th>Currency</th>\n",
              "      <th>Agency</th>\n",
              "      <th>Floor</th>\n",
              "      <th>Sqm</th>\n",
              "      <th>ID</th>\n",
              "      <th>nFloor</th>\n",
              "      <th>Broker</th>\n",
              "      <th>HTML_ID</th>\n",
              "      <th>Rooms</th>\n",
              "      <th>Price</th>\n",
              "      <th>Type</th>\n",
              "      <th>Source</th>\n",
              "      <th>District</th>\n",
              "      <th>City</th>\n",
              "      <th>Price_USD</th>\n",
              "      <th>price_per_sqm</th>\n",
              "      <th>Month</th>\n",
              "    </tr>\n",
              "  </thead>\n",
              "  <tbody>\n",
              "    <tr>\n",
              "      <th>0</th>\n",
              "      <td>$</td>\n",
              "      <td>1.0</td>\n",
              "      <td>8.0</td>\n",
              "      <td>140.0</td>\n",
              "      <td>95330.0</td>\n",
              "      <td>13.0</td>\n",
              "      <td>գործակալություն</td>\n",
              "      <td>0</td>\n",
              "      <td>3.0</td>\n",
              "      <td>1700.0</td>\n",
              "      <td>Մոնոլիտ</td>\n",
              "      <td>my_realty</td>\n",
              "      <td>կենտրոն</td>\n",
              "      <td>Երևան</td>\n",
              "      <td>1700.000000</td>\n",
              "      <td>12.14</td>\n",
              "      <td>March</td>\n",
              "    </tr>\n",
              "    <tr>\n",
              "      <th>1</th>\n",
              "      <td>$</td>\n",
              "      <td>1.0</td>\n",
              "      <td>4.0</td>\n",
              "      <td>55.0</td>\n",
              "      <td>76281.0</td>\n",
              "      <td>5.0</td>\n",
              "      <td>գործակալություն</td>\n",
              "      <td>1</td>\n",
              "      <td>1.0</td>\n",
              "      <td>370.0</td>\n",
              "      <td>Քարե</td>\n",
              "      <td>my_realty</td>\n",
              "      <td>կենտրոն</td>\n",
              "      <td>Երևան</td>\n",
              "      <td>370.000000</td>\n",
              "      <td>6.73</td>\n",
              "      <td>March</td>\n",
              "    </tr>\n",
              "    <tr>\n",
              "      <th>2</th>\n",
              "      <td>$</td>\n",
              "      <td>1.0</td>\n",
              "      <td>6.0</td>\n",
              "      <td>63.0</td>\n",
              "      <td>64666.0</td>\n",
              "      <td>7.0</td>\n",
              "      <td>գործակալություն</td>\n",
              "      <td>2</td>\n",
              "      <td>2.0</td>\n",
              "      <td>480.0</td>\n",
              "      <td>Մոնոլիտ</td>\n",
              "      <td>my_realty</td>\n",
              "      <td>արաբկիր</td>\n",
              "      <td>Երևան</td>\n",
              "      <td>480.000000</td>\n",
              "      <td>7.62</td>\n",
              "      <td>March</td>\n",
              "    </tr>\n",
              "    <tr>\n",
              "      <th>3</th>\n",
              "      <td>$</td>\n",
              "      <td>1.0</td>\n",
              "      <td>7.0</td>\n",
              "      <td>100.0</td>\n",
              "      <td>82067.0</td>\n",
              "      <td>16.0</td>\n",
              "      <td>գործակալություն</td>\n",
              "      <td>3</td>\n",
              "      <td>2.0</td>\n",
              "      <td>1200.0</td>\n",
              "      <td>Պանելային</td>\n",
              "      <td>my_realty</td>\n",
              "      <td>կենտրոն</td>\n",
              "      <td>Երևան</td>\n",
              "      <td>1200.000000</td>\n",
              "      <td>12.00</td>\n",
              "      <td>March</td>\n",
              "    </tr>\n",
              "    <tr>\n",
              "      <th>4</th>\n",
              "      <td>$</td>\n",
              "      <td>1.0</td>\n",
              "      <td>14.0</td>\n",
              "      <td>97.0</td>\n",
              "      <td>76984.0</td>\n",
              "      <td>16.0</td>\n",
              "      <td>գործակալություն</td>\n",
              "      <td>4</td>\n",
              "      <td>3.0</td>\n",
              "      <td>800.0</td>\n",
              "      <td>Այլ</td>\n",
              "      <td>my_realty</td>\n",
              "      <td>կենտրոն</td>\n",
              "      <td>Երևան</td>\n",
              "      <td>800.000000</td>\n",
              "      <td>8.25</td>\n",
              "      <td>March</td>\n",
              "    </tr>\n",
              "    <tr>\n",
              "      <th>...</th>\n",
              "      <td>...</td>\n",
              "      <td>...</td>\n",
              "      <td>...</td>\n",
              "      <td>...</td>\n",
              "      <td>...</td>\n",
              "      <td>...</td>\n",
              "      <td>...</td>\n",
              "      <td>...</td>\n",
              "      <td>...</td>\n",
              "      <td>...</td>\n",
              "      <td>...</td>\n",
              "      <td>...</td>\n",
              "      <td>...</td>\n",
              "      <td>...</td>\n",
              "      <td>...</td>\n",
              "      <td>...</td>\n",
              "      <td>...</td>\n",
              "    </tr>\n",
              "    <tr>\n",
              "      <th>40000</th>\n",
              "      <td>֏</td>\n",
              "      <td>1.0</td>\n",
              "      <td>5</td>\n",
              "      <td>40.0</td>\n",
              "      <td>8544704.0</td>\n",
              "      <td>6.0</td>\n",
              "      <td>NaN</td>\n",
              "      <td>26243</td>\n",
              "      <td>2.0</td>\n",
              "      <td>150000.0</td>\n",
              "      <td>Մոնոլիտ</td>\n",
              "      <td>list_am</td>\n",
              "      <td>0</td>\n",
              "      <td>երևան</td>\n",
              "      <td>312.116357</td>\n",
              "      <td>7.80</td>\n",
              "      <td>March</td>\n",
              "    </tr>\n",
              "    <tr>\n",
              "      <th>40001</th>\n",
              "      <td>$</td>\n",
              "      <td>1.0</td>\n",
              "      <td>7</td>\n",
              "      <td>50.0</td>\n",
              "      <td>10002802.0</td>\n",
              "      <td>9.0</td>\n",
              "      <td>NaN</td>\n",
              "      <td>26244</td>\n",
              "      <td>2.0</td>\n",
              "      <td>650.0</td>\n",
              "      <td>Մոնոլիտ</td>\n",
              "      <td>list_am</td>\n",
              "      <td>0</td>\n",
              "      <td>երևան</td>\n",
              "      <td>650.000000</td>\n",
              "      <td>13.00</td>\n",
              "      <td>March</td>\n",
              "    </tr>\n",
              "    <tr>\n",
              "      <th>40002</th>\n",
              "      <td>$</td>\n",
              "      <td>0.0</td>\n",
              "      <td>2</td>\n",
              "      <td>100.0</td>\n",
              "      <td>11847027.0</td>\n",
              "      <td>6.0</td>\n",
              "      <td>NaN</td>\n",
              "      <td>26245</td>\n",
              "      <td>3.0</td>\n",
              "      <td>600.0</td>\n",
              "      <td>Քարե</td>\n",
              "      <td>list_am</td>\n",
              "      <td>արաբկիր</td>\n",
              "      <td>երևան</td>\n",
              "      <td>600.000000</td>\n",
              "      <td>6.00</td>\n",
              "      <td>March</td>\n",
              "    </tr>\n",
              "    <tr>\n",
              "      <th>40003</th>\n",
              "      <td>$</td>\n",
              "      <td>1.0</td>\n",
              "      <td>2</td>\n",
              "      <td>40.0</td>\n",
              "      <td>13357406.0</td>\n",
              "      <td>4.0</td>\n",
              "      <td>NaN</td>\n",
              "      <td>26246</td>\n",
              "      <td>2.0</td>\n",
              "      <td>400.0</td>\n",
              "      <td>Քարե</td>\n",
              "      <td>list_am</td>\n",
              "      <td>արաբկիր</td>\n",
              "      <td>երևան</td>\n",
              "      <td>400.000000</td>\n",
              "      <td>10.00</td>\n",
              "      <td>March</td>\n",
              "    </tr>\n",
              "    <tr>\n",
              "      <th>40004</th>\n",
              "      <td>$</td>\n",
              "      <td>1.0</td>\n",
              "      <td>6</td>\n",
              "      <td>90.0</td>\n",
              "      <td>10776882.0</td>\n",
              "      <td>9.0</td>\n",
              "      <td>NaN</td>\n",
              "      <td>26249</td>\n",
              "      <td>3.0</td>\n",
              "      <td>800.0</td>\n",
              "      <td>Մոնոլիտ</td>\n",
              "      <td>list_am</td>\n",
              "      <td>կենտրոն</td>\n",
              "      <td>երևան</td>\n",
              "      <td>800.000000</td>\n",
              "      <td>8.89</td>\n",
              "      <td>March</td>\n",
              "    </tr>\n",
              "  </tbody>\n",
              "</table>\n",
              "<p>40005 rows × 17 columns</p>\n",
              "</div>"
            ],
            "text/plain": [
              "      Currency  Agency Floor    Sqm  ...   City    Price_USD price_per_sqm  Month\n",
              "0            $     1.0   8.0  140.0  ...  Երևան  1700.000000         12.14  March\n",
              "1            $     1.0   4.0   55.0  ...  Երևան   370.000000          6.73  March\n",
              "2            $     1.0   6.0   63.0  ...  Երևան   480.000000          7.62  March\n",
              "3            $     1.0   7.0  100.0  ...  Երևան  1200.000000         12.00  March\n",
              "4            $     1.0  14.0   97.0  ...  Երևան   800.000000          8.25  March\n",
              "...        ...     ...   ...    ...  ...    ...          ...           ...    ...\n",
              "40000        ֏     1.0     5   40.0  ...  երևան   312.116357          7.80  March\n",
              "40001        $     1.0     7   50.0  ...  երևան   650.000000         13.00  March\n",
              "40002        $     0.0     2  100.0  ...  երևան   600.000000          6.00  March\n",
              "40003        $     1.0     2   40.0  ...  երևան   400.000000         10.00  March\n",
              "40004        $     1.0     6   90.0  ...  երևան   800.000000          8.89  March\n",
              "\n",
              "[40005 rows x 17 columns]"
            ]
          },
          "metadata": {
            "tags": []
          },
          "execution_count": 103
        }
      ]
    },
    {
      "cell_type": "code",
      "metadata": {
        "id": "lPjBleXt1w-s",
        "colab_type": "code",
        "outputId": "5eb2d560-7320-45d3-f8d2-4309b9ad7c24",
        "colab": {
          "base_uri": "https://localhost:8080/",
          "height": 439
        }
      },
      "source": [
        "data2['Month']='April'\n",
        "data2"
      ],
      "execution_count": 104,
      "outputs": [
        {
          "output_type": "execute_result",
          "data": {
            "text/html": [
              "<div>\n",
              "<style scoped>\n",
              "    .dataframe tbody tr th:only-of-type {\n",
              "        vertical-align: middle;\n",
              "    }\n",
              "\n",
              "    .dataframe tbody tr th {\n",
              "        vertical-align: top;\n",
              "    }\n",
              "\n",
              "    .dataframe thead th {\n",
              "        text-align: right;\n",
              "    }\n",
              "</style>\n",
              "<table border=\"1\" class=\"dataframe\">\n",
              "  <thead>\n",
              "    <tr style=\"text-align: right;\">\n",
              "      <th></th>\n",
              "      <th>Source</th>\n",
              "      <th>Rooms</th>\n",
              "      <th>City</th>\n",
              "      <th>ID</th>\n",
              "      <th>nFloor</th>\n",
              "      <th>Broker</th>\n",
              "      <th>District</th>\n",
              "      <th>Sqm</th>\n",
              "      <th>Currency</th>\n",
              "      <th>Agency</th>\n",
              "      <th>Price</th>\n",
              "      <th>HTML_ID</th>\n",
              "      <th>Type</th>\n",
              "      <th>Floor</th>\n",
              "      <th>Price_USD</th>\n",
              "      <th>price_per_sqm</th>\n",
              "      <th>Month</th>\n",
              "    </tr>\n",
              "  </thead>\n",
              "  <tbody>\n",
              "    <tr>\n",
              "      <th>0</th>\n",
              "      <td>my_realty</td>\n",
              "      <td>3.0</td>\n",
              "      <td>Երևան</td>\n",
              "      <td>96482</td>\n",
              "      <td>9.0</td>\n",
              "      <td>գործակալություն</td>\n",
              "      <td>արաբկիր</td>\n",
              "      <td>82.0</td>\n",
              "      <td>$</td>\n",
              "      <td>1.0</td>\n",
              "      <td>370.0</td>\n",
              "      <td>0</td>\n",
              "      <td>Այլ</td>\n",
              "      <td>1</td>\n",
              "      <td>370.0</td>\n",
              "      <td>4.51</td>\n",
              "      <td>April</td>\n",
              "    </tr>\n",
              "    <tr>\n",
              "      <th>1</th>\n",
              "      <td>my_realty</td>\n",
              "      <td>2.0</td>\n",
              "      <td>Երևան</td>\n",
              "      <td>96479</td>\n",
              "      <td>11.0</td>\n",
              "      <td>գործակալություն</td>\n",
              "      <td>կենտրոն</td>\n",
              "      <td>50.0</td>\n",
              "      <td>$</td>\n",
              "      <td>1.0</td>\n",
              "      <td>450.0</td>\n",
              "      <td>1</td>\n",
              "      <td>Պանելային</td>\n",
              "      <td>4</td>\n",
              "      <td>450.0</td>\n",
              "      <td>9.00</td>\n",
              "      <td>April</td>\n",
              "    </tr>\n",
              "    <tr>\n",
              "      <th>2</th>\n",
              "      <td>my_realty</td>\n",
              "      <td>1.0</td>\n",
              "      <td>Երևան</td>\n",
              "      <td>96478</td>\n",
              "      <td>9.0</td>\n",
              "      <td>գործակալություն</td>\n",
              "      <td>կենտրոն</td>\n",
              "      <td>44.0</td>\n",
              "      <td>$</td>\n",
              "      <td>1.0</td>\n",
              "      <td>450.0</td>\n",
              "      <td>2</td>\n",
              "      <td>Պանելային</td>\n",
              "      <td>2</td>\n",
              "      <td>450.0</td>\n",
              "      <td>10.23</td>\n",
              "      <td>April</td>\n",
              "    </tr>\n",
              "    <tr>\n",
              "      <th>3</th>\n",
              "      <td>my_realty</td>\n",
              "      <td>2.0</td>\n",
              "      <td>Երևան</td>\n",
              "      <td>96477</td>\n",
              "      <td>5.0</td>\n",
              "      <td>գործակալություն</td>\n",
              "      <td>կենտրոն</td>\n",
              "      <td>40.0</td>\n",
              "      <td>$</td>\n",
              "      <td>1.0</td>\n",
              "      <td>360.0</td>\n",
              "      <td>3</td>\n",
              "      <td>Քարե</td>\n",
              "      <td>5</td>\n",
              "      <td>360.0</td>\n",
              "      <td>9.00</td>\n",
              "      <td>April</td>\n",
              "    </tr>\n",
              "    <tr>\n",
              "      <th>4</th>\n",
              "      <td>my_realty</td>\n",
              "      <td>2.0</td>\n",
              "      <td>Երևան</td>\n",
              "      <td>96476</td>\n",
              "      <td>14.0</td>\n",
              "      <td>գործակալություն</td>\n",
              "      <td>կենտրոն</td>\n",
              "      <td>54.0</td>\n",
              "      <td>$</td>\n",
              "      <td>1.0</td>\n",
              "      <td>400.0</td>\n",
              "      <td>4</td>\n",
              "      <td>Մոնոլիտ</td>\n",
              "      <td>11</td>\n",
              "      <td>400.0</td>\n",
              "      <td>7.41</td>\n",
              "      <td>April</td>\n",
              "    </tr>\n",
              "    <tr>\n",
              "      <th>...</th>\n",
              "      <td>...</td>\n",
              "      <td>...</td>\n",
              "      <td>...</td>\n",
              "      <td>...</td>\n",
              "      <td>...</td>\n",
              "      <td>...</td>\n",
              "      <td>...</td>\n",
              "      <td>...</td>\n",
              "      <td>...</td>\n",
              "      <td>...</td>\n",
              "      <td>...</td>\n",
              "      <td>...</td>\n",
              "      <td>...</td>\n",
              "      <td>...</td>\n",
              "      <td>...</td>\n",
              "      <td>...</td>\n",
              "      <td>...</td>\n",
              "    </tr>\n",
              "    <tr>\n",
              "      <th>39579</th>\n",
              "      <td>list_am</td>\n",
              "      <td>4.0</td>\n",
              "      <td>երևան</td>\n",
              "      <td>11370586</td>\n",
              "      <td>12.0</td>\n",
              "      <td>NaN</td>\n",
              "      <td>0</td>\n",
              "      <td>140.0</td>\n",
              "      <td>$</td>\n",
              "      <td>1.0</td>\n",
              "      <td>1100.0</td>\n",
              "      <td>26244</td>\n",
              "      <td>Մոնոլիտ</td>\n",
              "      <td>9</td>\n",
              "      <td>1100.0</td>\n",
              "      <td>7.86</td>\n",
              "      <td>April</td>\n",
              "    </tr>\n",
              "    <tr>\n",
              "      <th>39580</th>\n",
              "      <td>list_am</td>\n",
              "      <td>3.0</td>\n",
              "      <td>երևան</td>\n",
              "      <td>9768648</td>\n",
              "      <td>9.0</td>\n",
              "      <td>NaN</td>\n",
              "      <td>կենտրոն</td>\n",
              "      <td>80.0</td>\n",
              "      <td>$</td>\n",
              "      <td>1.0</td>\n",
              "      <td>700.0</td>\n",
              "      <td>26245</td>\n",
              "      <td>Մոնոլիտ</td>\n",
              "      <td>3</td>\n",
              "      <td>700.0</td>\n",
              "      <td>8.75</td>\n",
              "      <td>April</td>\n",
              "    </tr>\n",
              "    <tr>\n",
              "      <th>39581</th>\n",
              "      <td>list_am</td>\n",
              "      <td>1.0</td>\n",
              "      <td>երևան</td>\n",
              "      <td>10554867</td>\n",
              "      <td>4.0</td>\n",
              "      <td>NaN</td>\n",
              "      <td>0</td>\n",
              "      <td>42.0</td>\n",
              "      <td>$</td>\n",
              "      <td>1.0</td>\n",
              "      <td>500.0</td>\n",
              "      <td>26246</td>\n",
              "      <td>Քարե</td>\n",
              "      <td>2</td>\n",
              "      <td>500.0</td>\n",
              "      <td>11.90</td>\n",
              "      <td>April</td>\n",
              "    </tr>\n",
              "    <tr>\n",
              "      <th>39582</th>\n",
              "      <td>list_am</td>\n",
              "      <td>1.0</td>\n",
              "      <td>երևան</td>\n",
              "      <td>12134756</td>\n",
              "      <td>3.0</td>\n",
              "      <td>NaN</td>\n",
              "      <td>կենտրոն</td>\n",
              "      <td>69.0</td>\n",
              "      <td>$</td>\n",
              "      <td>1.0</td>\n",
              "      <td>850.0</td>\n",
              "      <td>26247</td>\n",
              "      <td>Մոնոլիտ</td>\n",
              "      <td>3</td>\n",
              "      <td>850.0</td>\n",
              "      <td>12.32</td>\n",
              "      <td>April</td>\n",
              "    </tr>\n",
              "    <tr>\n",
              "      <th>39583</th>\n",
              "      <td>list_am</td>\n",
              "      <td>4.0</td>\n",
              "      <td>երևան</td>\n",
              "      <td>10335261</td>\n",
              "      <td>13.0</td>\n",
              "      <td>NaN</td>\n",
              "      <td>կենտրոն</td>\n",
              "      <td>170.0</td>\n",
              "      <td>$</td>\n",
              "      <td>1.0</td>\n",
              "      <td>1000.0</td>\n",
              "      <td>26248</td>\n",
              "      <td>Մոնոլիտ</td>\n",
              "      <td>5</td>\n",
              "      <td>1000.0</td>\n",
              "      <td>5.88</td>\n",
              "      <td>April</td>\n",
              "    </tr>\n",
              "  </tbody>\n",
              "</table>\n",
              "<p>39584 rows × 17 columns</p>\n",
              "</div>"
            ],
            "text/plain": [
              "          Source  Rooms   City        ID  ...  Floor Price_USD price_per_sqm  Month\n",
              "0      my_realty    3.0  Երևան     96482  ...      1     370.0          4.51  April\n",
              "1      my_realty    2.0  Երևան     96479  ...      4     450.0          9.00  April\n",
              "2      my_realty    1.0  Երևան     96478  ...      2     450.0         10.23  April\n",
              "3      my_realty    2.0  Երևան     96477  ...      5     360.0          9.00  April\n",
              "4      my_realty    2.0  Երևան     96476  ...     11     400.0          7.41  April\n",
              "...          ...    ...    ...       ...  ...    ...       ...           ...    ...\n",
              "39579    list_am    4.0  երևան  11370586  ...      9    1100.0          7.86  April\n",
              "39580    list_am    3.0  երևան   9768648  ...      3     700.0          8.75  April\n",
              "39581    list_am    1.0  երևան  10554867  ...      2     500.0         11.90  April\n",
              "39582    list_am    1.0  երևան  12134756  ...      3     850.0         12.32  April\n",
              "39583    list_am    4.0  երևան  10335261  ...      5    1000.0          5.88  April\n",
              "\n",
              "[39584 rows x 17 columns]"
            ]
          },
          "metadata": {
            "tags": []
          },
          "execution_count": 104
        }
      ]
    },
    {
      "cell_type": "code",
      "metadata": {
        "id": "a9ILHl7U1zHJ",
        "colab_type": "code",
        "outputId": "611580ad-2938-474f-ef30-dc5ffb8b1cc3",
        "colab": {
          "base_uri": "https://localhost:8080/",
          "height": 439
        }
      },
      "source": [
        "data3['Month']='May'\n",
        "data3"
      ],
      "execution_count": 105,
      "outputs": [
        {
          "output_type": "execute_result",
          "data": {
            "text/html": [
              "<div>\n",
              "<style scoped>\n",
              "    .dataframe tbody tr th:only-of-type {\n",
              "        vertical-align: middle;\n",
              "    }\n",
              "\n",
              "    .dataframe tbody tr th {\n",
              "        vertical-align: top;\n",
              "    }\n",
              "\n",
              "    .dataframe thead th {\n",
              "        text-align: right;\n",
              "    }\n",
              "</style>\n",
              "<table border=\"1\" class=\"dataframe\">\n",
              "  <thead>\n",
              "    <tr style=\"text-align: right;\">\n",
              "      <th></th>\n",
              "      <th>Currency</th>\n",
              "      <th>Floor</th>\n",
              "      <th>Rooms</th>\n",
              "      <th>Type</th>\n",
              "      <th>Sqm</th>\n",
              "      <th>City</th>\n",
              "      <th>nFloor</th>\n",
              "      <th>HTML_ID</th>\n",
              "      <th>Source</th>\n",
              "      <th>Agency</th>\n",
              "      <th>ID</th>\n",
              "      <th>District</th>\n",
              "      <th>Broker</th>\n",
              "      <th>Price</th>\n",
              "      <th>Price_USD</th>\n",
              "      <th>price_per_sqm</th>\n",
              "      <th>Month</th>\n",
              "    </tr>\n",
              "  </thead>\n",
              "  <tbody>\n",
              "    <tr>\n",
              "      <th>0</th>\n",
              "      <td>$</td>\n",
              "      <td>1.0</td>\n",
              "      <td>3.0</td>\n",
              "      <td>Քարե</td>\n",
              "      <td>100.0</td>\n",
              "      <td>Երևան</td>\n",
              "      <td>7.0</td>\n",
              "      <td>1</td>\n",
              "      <td>my_realty</td>\n",
              "      <td>1.0</td>\n",
              "      <td>97186.0</td>\n",
              "      <td>արաբկիր</td>\n",
              "      <td>գործակալություն</td>\n",
              "      <td>379.0</td>\n",
              "      <td>379.000000</td>\n",
              "      <td>3.79</td>\n",
              "      <td>May</td>\n",
              "    </tr>\n",
              "    <tr>\n",
              "      <th>1</th>\n",
              "      <td>$</td>\n",
              "      <td>4.0</td>\n",
              "      <td>3.0</td>\n",
              "      <td>Մոնոլիտ</td>\n",
              "      <td>130.0</td>\n",
              "      <td>Երևան</td>\n",
              "      <td>10.0</td>\n",
              "      <td>2</td>\n",
              "      <td>my_realty</td>\n",
              "      <td>1.0</td>\n",
              "      <td>97182.0</td>\n",
              "      <td>կենտրոն</td>\n",
              "      <td>գործակալ</td>\n",
              "      <td>900.0</td>\n",
              "      <td>900.000000</td>\n",
              "      <td>6.92</td>\n",
              "      <td>May</td>\n",
              "    </tr>\n",
              "    <tr>\n",
              "      <th>2</th>\n",
              "      <td>$</td>\n",
              "      <td>2.0</td>\n",
              "      <td>3.0</td>\n",
              "      <td>Մոնոլիտ</td>\n",
              "      <td>100.0</td>\n",
              "      <td>Երևան</td>\n",
              "      <td>10.0</td>\n",
              "      <td>3</td>\n",
              "      <td>my_realty</td>\n",
              "      <td>1.0</td>\n",
              "      <td>77379.0</td>\n",
              "      <td>կենտրոն</td>\n",
              "      <td>գործակալություն</td>\n",
              "      <td>1500.0</td>\n",
              "      <td>1500.000000</td>\n",
              "      <td>15.00</td>\n",
              "      <td>May</td>\n",
              "    </tr>\n",
              "    <tr>\n",
              "      <th>3</th>\n",
              "      <td>$</td>\n",
              "      <td>6.0</td>\n",
              "      <td>2.0</td>\n",
              "      <td>Մոնոլիտ</td>\n",
              "      <td>67.0</td>\n",
              "      <td>Երևան</td>\n",
              "      <td>14.0</td>\n",
              "      <td>4</td>\n",
              "      <td>my_realty</td>\n",
              "      <td>1.0</td>\n",
              "      <td>3552.0</td>\n",
              "      <td>արաբկիր</td>\n",
              "      <td>գործակալություն</td>\n",
              "      <td>600.0</td>\n",
              "      <td>600.000000</td>\n",
              "      <td>8.96</td>\n",
              "      <td>May</td>\n",
              "    </tr>\n",
              "    <tr>\n",
              "      <th>4</th>\n",
              "      <td>$</td>\n",
              "      <td>2.0</td>\n",
              "      <td>2.0</td>\n",
              "      <td>Պանելային</td>\n",
              "      <td>45.0</td>\n",
              "      <td>Երևան</td>\n",
              "      <td>12.0</td>\n",
              "      <td>5</td>\n",
              "      <td>my_realty</td>\n",
              "      <td>1.0</td>\n",
              "      <td>30544.0</td>\n",
              "      <td>կենտրոն</td>\n",
              "      <td>գործակալություն</td>\n",
              "      <td>550.0</td>\n",
              "      <td>550.000000</td>\n",
              "      <td>12.22</td>\n",
              "      <td>May</td>\n",
              "    </tr>\n",
              "    <tr>\n",
              "      <th>...</th>\n",
              "      <td>...</td>\n",
              "      <td>...</td>\n",
              "      <td>...</td>\n",
              "      <td>...</td>\n",
              "      <td>...</td>\n",
              "      <td>...</td>\n",
              "      <td>...</td>\n",
              "      <td>...</td>\n",
              "      <td>...</td>\n",
              "      <td>...</td>\n",
              "      <td>...</td>\n",
              "      <td>...</td>\n",
              "      <td>...</td>\n",
              "      <td>...</td>\n",
              "      <td>...</td>\n",
              "      <td>...</td>\n",
              "      <td>...</td>\n",
              "    </tr>\n",
              "    <tr>\n",
              "      <th>40298</th>\n",
              "      <td>֏</td>\n",
              "      <td>3</td>\n",
              "      <td>3.0</td>\n",
              "      <td>Քարե</td>\n",
              "      <td>80.0</td>\n",
              "      <td>երևան</td>\n",
              "      <td>5.0</td>\n",
              "      <td>26245</td>\n",
              "      <td>list_am</td>\n",
              "      <td>1.0</td>\n",
              "      <td>10875916.0</td>\n",
              "      <td>0</td>\n",
              "      <td>NaN</td>\n",
              "      <td>190000.0</td>\n",
              "      <td>398.740818</td>\n",
              "      <td>4.98</td>\n",
              "      <td>May</td>\n",
              "    </tr>\n",
              "    <tr>\n",
              "      <th>40299</th>\n",
              "      <td>$</td>\n",
              "      <td>8</td>\n",
              "      <td>3.0</td>\n",
              "      <td>Քարե</td>\n",
              "      <td>100.0</td>\n",
              "      <td>երևան</td>\n",
              "      <td>8.0</td>\n",
              "      <td>26246</td>\n",
              "      <td>list_am</td>\n",
              "      <td>1.0</td>\n",
              "      <td>5975323.0</td>\n",
              "      <td>0</td>\n",
              "      <td>NaN</td>\n",
              "      <td>600.0</td>\n",
              "      <td>600.000000</td>\n",
              "      <td>6.00</td>\n",
              "      <td>May</td>\n",
              "    </tr>\n",
              "    <tr>\n",
              "      <th>40300</th>\n",
              "      <td>$</td>\n",
              "      <td>4</td>\n",
              "      <td>3.0</td>\n",
              "      <td>Քարե</td>\n",
              "      <td>85.0</td>\n",
              "      <td>երևան</td>\n",
              "      <td>7.0</td>\n",
              "      <td>26247</td>\n",
              "      <td>list_am</td>\n",
              "      <td>1.0</td>\n",
              "      <td>5896194.0</td>\n",
              "      <td>արաբկիր</td>\n",
              "      <td>NaN</td>\n",
              "      <td>400.0</td>\n",
              "      <td>400.000000</td>\n",
              "      <td>4.71</td>\n",
              "      <td>May</td>\n",
              "    </tr>\n",
              "    <tr>\n",
              "      <th>40301</th>\n",
              "      <td>$</td>\n",
              "      <td>10</td>\n",
              "      <td>2.0</td>\n",
              "      <td>Պանելային</td>\n",
              "      <td>70.0</td>\n",
              "      <td>երևան</td>\n",
              "      <td>10.0</td>\n",
              "      <td>26248</td>\n",
              "      <td>list_am</td>\n",
              "      <td>1.0</td>\n",
              "      <td>13248259.0</td>\n",
              "      <td>կենտրոն</td>\n",
              "      <td>NaN</td>\n",
              "      <td>450.0</td>\n",
              "      <td>450.000000</td>\n",
              "      <td>6.43</td>\n",
              "      <td>May</td>\n",
              "    </tr>\n",
              "    <tr>\n",
              "      <th>40302</th>\n",
              "      <td>$</td>\n",
              "      <td>5</td>\n",
              "      <td>3.0</td>\n",
              "      <td>Մոնոլիտ</td>\n",
              "      <td>95.0</td>\n",
              "      <td>երևան</td>\n",
              "      <td>17.0</td>\n",
              "      <td>26249</td>\n",
              "      <td>list_am</td>\n",
              "      <td>1.0</td>\n",
              "      <td>11199375.0</td>\n",
              "      <td>կենտրոն</td>\n",
              "      <td>NaN</td>\n",
              "      <td>1300.0</td>\n",
              "      <td>1300.000000</td>\n",
              "      <td>13.68</td>\n",
              "      <td>May</td>\n",
              "    </tr>\n",
              "  </tbody>\n",
              "</table>\n",
              "<p>40303 rows × 17 columns</p>\n",
              "</div>"
            ],
            "text/plain": [
              "      Currency Floor  Rooms  ...    Price_USD  price_per_sqm Month\n",
              "0            $   1.0    3.0  ...   379.000000           3.79   May\n",
              "1            $   4.0    3.0  ...   900.000000           6.92   May\n",
              "2            $   2.0    3.0  ...  1500.000000          15.00   May\n",
              "3            $   6.0    2.0  ...   600.000000           8.96   May\n",
              "4            $   2.0    2.0  ...   550.000000          12.22   May\n",
              "...        ...   ...    ...  ...          ...            ...   ...\n",
              "40298        ֏     3    3.0  ...   398.740818           4.98   May\n",
              "40299        $     8    3.0  ...   600.000000           6.00   May\n",
              "40300        $     4    3.0  ...   400.000000           4.71   May\n",
              "40301        $    10    2.0  ...   450.000000           6.43   May\n",
              "40302        $     5    3.0  ...  1300.000000          13.68   May\n",
              "\n",
              "[40303 rows x 17 columns]"
            ]
          },
          "metadata": {
            "tags": []
          },
          "execution_count": 105
        }
      ]
    },
    {
      "cell_type": "code",
      "metadata": {
        "id": "m9hnb7Ayxhuj",
        "colab_type": "code",
        "colab": {}
      },
      "source": [
        "data=pd.concat([data1,data2,data3])"
      ],
      "execution_count": 0,
      "outputs": []
    },
    {
      "cell_type": "code",
      "metadata": {
        "id": "d1Yz6XyuxhrX",
        "colab_type": "code",
        "outputId": "0512970e-65d4-4634-c8cc-0596e3f62fd7",
        "colab": {
          "base_uri": "https://localhost:8080/",
          "height": 439
        }
      },
      "source": [
        "data"
      ],
      "execution_count": 107,
      "outputs": [
        {
          "output_type": "execute_result",
          "data": {
            "text/html": [
              "<div>\n",
              "<style scoped>\n",
              "    .dataframe tbody tr th:only-of-type {\n",
              "        vertical-align: middle;\n",
              "    }\n",
              "\n",
              "    .dataframe tbody tr th {\n",
              "        vertical-align: top;\n",
              "    }\n",
              "\n",
              "    .dataframe thead th {\n",
              "        text-align: right;\n",
              "    }\n",
              "</style>\n",
              "<table border=\"1\" class=\"dataframe\">\n",
              "  <thead>\n",
              "    <tr style=\"text-align: right;\">\n",
              "      <th></th>\n",
              "      <th>Currency</th>\n",
              "      <th>Agency</th>\n",
              "      <th>Floor</th>\n",
              "      <th>Sqm</th>\n",
              "      <th>ID</th>\n",
              "      <th>nFloor</th>\n",
              "      <th>Broker</th>\n",
              "      <th>HTML_ID</th>\n",
              "      <th>Rooms</th>\n",
              "      <th>Price</th>\n",
              "      <th>Type</th>\n",
              "      <th>Source</th>\n",
              "      <th>District</th>\n",
              "      <th>City</th>\n",
              "      <th>Price_USD</th>\n",
              "      <th>price_per_sqm</th>\n",
              "      <th>Month</th>\n",
              "    </tr>\n",
              "  </thead>\n",
              "  <tbody>\n",
              "    <tr>\n",
              "      <th>0</th>\n",
              "      <td>$</td>\n",
              "      <td>1.0</td>\n",
              "      <td>8.0</td>\n",
              "      <td>140.0</td>\n",
              "      <td>95330.0</td>\n",
              "      <td>13.0</td>\n",
              "      <td>գործակալություն</td>\n",
              "      <td>0</td>\n",
              "      <td>3.0</td>\n",
              "      <td>1700.0</td>\n",
              "      <td>Մոնոլիտ</td>\n",
              "      <td>my_realty</td>\n",
              "      <td>կենտրոն</td>\n",
              "      <td>Երևան</td>\n",
              "      <td>1700.000000</td>\n",
              "      <td>12.14</td>\n",
              "      <td>March</td>\n",
              "    </tr>\n",
              "    <tr>\n",
              "      <th>1</th>\n",
              "      <td>$</td>\n",
              "      <td>1.0</td>\n",
              "      <td>4.0</td>\n",
              "      <td>55.0</td>\n",
              "      <td>76281.0</td>\n",
              "      <td>5.0</td>\n",
              "      <td>գործակալություն</td>\n",
              "      <td>1</td>\n",
              "      <td>1.0</td>\n",
              "      <td>370.0</td>\n",
              "      <td>Քարե</td>\n",
              "      <td>my_realty</td>\n",
              "      <td>կենտրոն</td>\n",
              "      <td>Երևան</td>\n",
              "      <td>370.000000</td>\n",
              "      <td>6.73</td>\n",
              "      <td>March</td>\n",
              "    </tr>\n",
              "    <tr>\n",
              "      <th>2</th>\n",
              "      <td>$</td>\n",
              "      <td>1.0</td>\n",
              "      <td>6.0</td>\n",
              "      <td>63.0</td>\n",
              "      <td>64666.0</td>\n",
              "      <td>7.0</td>\n",
              "      <td>գործակալություն</td>\n",
              "      <td>2</td>\n",
              "      <td>2.0</td>\n",
              "      <td>480.0</td>\n",
              "      <td>Մոնոլիտ</td>\n",
              "      <td>my_realty</td>\n",
              "      <td>արաբկիր</td>\n",
              "      <td>Երևան</td>\n",
              "      <td>480.000000</td>\n",
              "      <td>7.62</td>\n",
              "      <td>March</td>\n",
              "    </tr>\n",
              "    <tr>\n",
              "      <th>3</th>\n",
              "      <td>$</td>\n",
              "      <td>1.0</td>\n",
              "      <td>7.0</td>\n",
              "      <td>100.0</td>\n",
              "      <td>82067.0</td>\n",
              "      <td>16.0</td>\n",
              "      <td>գործակալություն</td>\n",
              "      <td>3</td>\n",
              "      <td>2.0</td>\n",
              "      <td>1200.0</td>\n",
              "      <td>Պանելային</td>\n",
              "      <td>my_realty</td>\n",
              "      <td>կենտրոն</td>\n",
              "      <td>Երևան</td>\n",
              "      <td>1200.000000</td>\n",
              "      <td>12.00</td>\n",
              "      <td>March</td>\n",
              "    </tr>\n",
              "    <tr>\n",
              "      <th>4</th>\n",
              "      <td>$</td>\n",
              "      <td>1.0</td>\n",
              "      <td>14.0</td>\n",
              "      <td>97.0</td>\n",
              "      <td>76984.0</td>\n",
              "      <td>16.0</td>\n",
              "      <td>գործակալություն</td>\n",
              "      <td>4</td>\n",
              "      <td>3.0</td>\n",
              "      <td>800.0</td>\n",
              "      <td>Այլ</td>\n",
              "      <td>my_realty</td>\n",
              "      <td>կենտրոն</td>\n",
              "      <td>Երևան</td>\n",
              "      <td>800.000000</td>\n",
              "      <td>8.25</td>\n",
              "      <td>March</td>\n",
              "    </tr>\n",
              "    <tr>\n",
              "      <th>...</th>\n",
              "      <td>...</td>\n",
              "      <td>...</td>\n",
              "      <td>...</td>\n",
              "      <td>...</td>\n",
              "      <td>...</td>\n",
              "      <td>...</td>\n",
              "      <td>...</td>\n",
              "      <td>...</td>\n",
              "      <td>...</td>\n",
              "      <td>...</td>\n",
              "      <td>...</td>\n",
              "      <td>...</td>\n",
              "      <td>...</td>\n",
              "      <td>...</td>\n",
              "      <td>...</td>\n",
              "      <td>...</td>\n",
              "      <td>...</td>\n",
              "    </tr>\n",
              "    <tr>\n",
              "      <th>40298</th>\n",
              "      <td>֏</td>\n",
              "      <td>1.0</td>\n",
              "      <td>3</td>\n",
              "      <td>80.0</td>\n",
              "      <td>10875916.0</td>\n",
              "      <td>5.0</td>\n",
              "      <td>NaN</td>\n",
              "      <td>26245</td>\n",
              "      <td>3.0</td>\n",
              "      <td>190000.0</td>\n",
              "      <td>Քարե</td>\n",
              "      <td>list_am</td>\n",
              "      <td>0</td>\n",
              "      <td>երևան</td>\n",
              "      <td>398.740818</td>\n",
              "      <td>4.98</td>\n",
              "      <td>May</td>\n",
              "    </tr>\n",
              "    <tr>\n",
              "      <th>40299</th>\n",
              "      <td>$</td>\n",
              "      <td>1.0</td>\n",
              "      <td>8</td>\n",
              "      <td>100.0</td>\n",
              "      <td>5975323.0</td>\n",
              "      <td>8.0</td>\n",
              "      <td>NaN</td>\n",
              "      <td>26246</td>\n",
              "      <td>3.0</td>\n",
              "      <td>600.0</td>\n",
              "      <td>Քարե</td>\n",
              "      <td>list_am</td>\n",
              "      <td>0</td>\n",
              "      <td>երևան</td>\n",
              "      <td>600.000000</td>\n",
              "      <td>6.00</td>\n",
              "      <td>May</td>\n",
              "    </tr>\n",
              "    <tr>\n",
              "      <th>40300</th>\n",
              "      <td>$</td>\n",
              "      <td>1.0</td>\n",
              "      <td>4</td>\n",
              "      <td>85.0</td>\n",
              "      <td>5896194.0</td>\n",
              "      <td>7.0</td>\n",
              "      <td>NaN</td>\n",
              "      <td>26247</td>\n",
              "      <td>3.0</td>\n",
              "      <td>400.0</td>\n",
              "      <td>Քարե</td>\n",
              "      <td>list_am</td>\n",
              "      <td>արաբկիր</td>\n",
              "      <td>երևան</td>\n",
              "      <td>400.000000</td>\n",
              "      <td>4.71</td>\n",
              "      <td>May</td>\n",
              "    </tr>\n",
              "    <tr>\n",
              "      <th>40301</th>\n",
              "      <td>$</td>\n",
              "      <td>1.0</td>\n",
              "      <td>10</td>\n",
              "      <td>70.0</td>\n",
              "      <td>13248259.0</td>\n",
              "      <td>10.0</td>\n",
              "      <td>NaN</td>\n",
              "      <td>26248</td>\n",
              "      <td>2.0</td>\n",
              "      <td>450.0</td>\n",
              "      <td>Պանելային</td>\n",
              "      <td>list_am</td>\n",
              "      <td>կենտրոն</td>\n",
              "      <td>երևան</td>\n",
              "      <td>450.000000</td>\n",
              "      <td>6.43</td>\n",
              "      <td>May</td>\n",
              "    </tr>\n",
              "    <tr>\n",
              "      <th>40302</th>\n",
              "      <td>$</td>\n",
              "      <td>1.0</td>\n",
              "      <td>5</td>\n",
              "      <td>95.0</td>\n",
              "      <td>11199375.0</td>\n",
              "      <td>17.0</td>\n",
              "      <td>NaN</td>\n",
              "      <td>26249</td>\n",
              "      <td>3.0</td>\n",
              "      <td>1300.0</td>\n",
              "      <td>Մոնոլիտ</td>\n",
              "      <td>list_am</td>\n",
              "      <td>կենտրոն</td>\n",
              "      <td>երևան</td>\n",
              "      <td>1300.000000</td>\n",
              "      <td>13.68</td>\n",
              "      <td>May</td>\n",
              "    </tr>\n",
              "  </tbody>\n",
              "</table>\n",
              "<p>119892 rows × 17 columns</p>\n",
              "</div>"
            ],
            "text/plain": [
              "      Currency  Agency Floor    Sqm  ...   City    Price_USD price_per_sqm  Month\n",
              "0            $     1.0   8.0  140.0  ...  Երևան  1700.000000         12.14  March\n",
              "1            $     1.0   4.0   55.0  ...  Երևան   370.000000          6.73  March\n",
              "2            $     1.0   6.0   63.0  ...  Երևան   480.000000          7.62  March\n",
              "3            $     1.0   7.0  100.0  ...  Երևան  1200.000000         12.00  March\n",
              "4            $     1.0  14.0   97.0  ...  Երևան   800.000000          8.25  March\n",
              "...        ...     ...   ...    ...  ...    ...          ...           ...    ...\n",
              "40298        ֏     1.0     3   80.0  ...  երևան   398.740818          4.98    May\n",
              "40299        $     1.0     8  100.0  ...  երևան   600.000000          6.00    May\n",
              "40300        $     1.0     4   85.0  ...  երևան   400.000000          4.71    May\n",
              "40301        $     1.0    10   70.0  ...  երևան   450.000000          6.43    May\n",
              "40302        $     1.0     5   95.0  ...  երևան  1300.000000         13.68    May\n",
              "\n",
              "[119892 rows x 17 columns]"
            ]
          },
          "metadata": {
            "tags": []
          },
          "execution_count": 107
        }
      ]
    },
    {
      "cell_type": "code",
      "metadata": {
        "id": "449a7OV7xhnS",
        "colab_type": "code",
        "outputId": "4c694665-4c31-48a9-f5d5-c74b07494c46",
        "colab": {
          "base_uri": "https://localhost:8080/",
          "height": 425
        }
      },
      "source": [
        "data.info()"
      ],
      "execution_count": 108,
      "outputs": [
        {
          "output_type": "stream",
          "text": [
            "<class 'pandas.core.frame.DataFrame'>\n",
            "Int64Index: 119892 entries, 0 to 40302\n",
            "Data columns (total 17 columns):\n",
            " #   Column         Non-Null Count   Dtype  \n",
            "---  ------         --------------   -----  \n",
            " 0   Currency       119892 non-null  object \n",
            " 1   Agency         119892 non-null  float64\n",
            " 2   Floor          119890 non-null  object \n",
            " 3   Sqm            119892 non-null  float64\n",
            " 4   ID             119892 non-null  float64\n",
            " 5   nFloor         119890 non-null  float64\n",
            " 6   Broker         51439 non-null   object \n",
            " 7   HTML_ID        119892 non-null  int64  \n",
            " 8   Rooms          119891 non-null  float64\n",
            " 9   Price          119892 non-null  float64\n",
            " 10  Type           119885 non-null  object \n",
            " 11  Source         119892 non-null  object \n",
            " 12  District       119892 non-null  object \n",
            " 13  City           119892 non-null  object \n",
            " 14  Price_USD      119892 non-null  float64\n",
            " 15  price_per_sqm  119892 non-null  float64\n",
            " 16  Month          119892 non-null  object \n",
            "dtypes: float64(8), int64(1), object(8)\n",
            "memory usage: 16.5+ MB\n"
          ],
          "name": "stdout"
        }
      ]
    },
    {
      "cell_type": "code",
      "metadata": {
        "id": "VyHWw7XSxhjc",
        "colab_type": "code",
        "outputId": "846b365a-6204-4a04-8bcc-62b47f60c75f",
        "colab": {
          "base_uri": "https://localhost:8080/",
          "height": 68
        }
      },
      "source": [
        "#checking number of duplicates, missing values and columns with a single value\n",
        "print(\"Duplicates:\", data.duplicated().sum())\n",
        "print(\"Missing values:\", data.isna().sum().sum())\n",
        "print(\"Single valued columns:\", data.columns[data.nunique()==1])"
      ],
      "execution_count": 109,
      "outputs": [
        {
          "output_type": "stream",
          "text": [
            "Duplicates: 0\n",
            "Missing values: 68465\n",
            "Single valued columns: Index([], dtype='object')\n"
          ],
          "name": "stdout"
        }
      ]
    },
    {
      "cell_type": "code",
      "metadata": {
        "id": "MrmaGDjGxhgz",
        "colab_type": "code",
        "outputId": "e730cf77-ca85-49e1-b6a3-715e983585b9",
        "colab": {
          "base_uri": "https://localhost:8080/",
          "height": 323
        }
      },
      "source": [
        "data.isna().sum()"
      ],
      "execution_count": 110,
      "outputs": [
        {
          "output_type": "execute_result",
          "data": {
            "text/plain": [
              "Currency             0\n",
              "Agency               0\n",
              "Floor                2\n",
              "Sqm                  0\n",
              "ID                   0\n",
              "nFloor               2\n",
              "Broker           68453\n",
              "HTML_ID              0\n",
              "Rooms                1\n",
              "Price                0\n",
              "Type                 7\n",
              "Source               0\n",
              "District             0\n",
              "City                 0\n",
              "Price_USD            0\n",
              "price_per_sqm        0\n",
              "Month                0\n",
              "dtype: int64"
            ]
          },
          "metadata": {
            "tags": []
          },
          "execution_count": 110
        }
      ]
    },
    {
      "cell_type": "code",
      "metadata": {
        "id": "-H7y2sWFxheQ",
        "colab_type": "code",
        "colab": {}
      },
      "source": [
        "#droping \"Broker\", as it has many missing values\n",
        "data=data.drop([\"Broker\"], axis=1)"
      ],
      "execution_count": 0,
      "outputs": []
    },
    {
      "cell_type": "code",
      "metadata": {
        "id": "Dov2tsTxxhbL",
        "colab_type": "code",
        "outputId": "b41afcc0-ac5e-49a1-b640-30f546d596e5",
        "colab": {
          "base_uri": "https://localhost:8080/",
          "height": 102
        }
      },
      "source": [
        "# count the number of missing values for each column\n",
        "num_missing = (data[[\"Rooms\",\"nFloor\",\"Type\",\"Floor\"]] == 0).sum()\n",
        "# report the results\n",
        "print(num_missing)"
      ],
      "execution_count": 112,
      "outputs": [
        {
          "output_type": "stream",
          "text": [
            "Rooms     3\n",
            "nFloor    0\n",
            "Type      0\n",
            "Floor     0\n",
            "dtype: int64\n"
          ],
          "name": "stdout"
        }
      ]
    },
    {
      "cell_type": "code",
      "metadata": {
        "id": "vmVE43YtxhY0",
        "colab_type": "code",
        "colab": {}
      },
      "source": [
        "# replace '0' values with 'nan'\n",
        "data[[\"Rooms\",\"nFloor\",\"Type\",\"Floor\"]] = data[[\"Rooms\",\"nFloor\",\"Type\",\"Floor\"]].replace(0, nan)\n",
        "# drop rows with missing values\n",
        "data.dropna(inplace=True)"
      ],
      "execution_count": 0,
      "outputs": []
    },
    {
      "cell_type": "code",
      "metadata": {
        "id": "EWiu26n0xhWH",
        "colab_type": "code",
        "outputId": "a15182ec-f5ba-4e13-ea8d-9ee4292b136f",
        "colab": {
          "base_uri": "https://localhost:8080/",
          "height": 306
        }
      },
      "source": [
        "print(data.nunique())"
      ],
      "execution_count": 114,
      "outputs": [
        {
          "output_type": "stream",
          "text": [
            "Currency             3\n",
            "Agency               2\n",
            "Floor               84\n",
            "Sqm                224\n",
            "ID               68376\n",
            "nFloor              27\n",
            "HTML_ID          25009\n",
            "Rooms                7\n",
            "Price              376\n",
            "Type                 6\n",
            "Source               3\n",
            "District            15\n",
            "City                 5\n",
            "Price_USD          592\n",
            "price_per_sqm     1623\n",
            "Month                3\n",
            "dtype: int64\n"
          ],
          "name": "stdout"
        }
      ]
    },
    {
      "cell_type": "code",
      "metadata": {
        "id": "wrQVbmWWxhTo",
        "colab_type": "code",
        "colab": {}
      },
      "source": [
        "# Dropping HTML_ID and ID because of many categories, price_sqm not useful\n",
        "data = data.drop(['HTML_ID', 'ID', 'price_per_sqm'], axis=1)"
      ],
      "execution_count": 0,
      "outputs": []
    },
    {
      "cell_type": "code",
      "metadata": {
        "id": "tC-Ujg2qxhRD",
        "colab_type": "code",
        "outputId": "11cff21f-d032-472b-c570-88d16ea129b3",
        "colab": {
          "base_uri": "https://localhost:8080/",
          "height": 85
        }
      },
      "source": [
        "data.Currency.value_counts()"
      ],
      "execution_count": 116,
      "outputs": [
        {
          "output_type": "execute_result",
          "data": {
            "text/plain": [
              "$    92220\n",
              "֏    27628\n",
              "€       33\n",
              "Name: Currency, dtype: int64"
            ]
          },
          "metadata": {
            "tags": []
          },
          "execution_count": 116
        }
      ]
    },
    {
      "cell_type": "code",
      "metadata": {
        "id": "iLYDUN6JxhOF",
        "colab_type": "code",
        "colab": {}
      },
      "source": [
        "#In the dataset we have variable price and price USD, and for Currency variable we have 3 currencies\n",
        "#We will drop the price and currency variables, and leave price USD for our predictions\n",
        "data = data.drop(['Price', 'Currency'], axis=1)"
      ],
      "execution_count": 0,
      "outputs": []
    },
    {
      "cell_type": "code",
      "metadata": {
        "id": "-rh6dnbFxhLs",
        "colab_type": "code",
        "outputId": "b2db9b0f-1d94-4314-99de-4c6444aca9bb",
        "colab": {
          "base_uri": "https://localhost:8080/",
          "height": 323
        }
      },
      "source": [
        "data.info()"
      ],
      "execution_count": 118,
      "outputs": [
        {
          "output_type": "stream",
          "text": [
            "<class 'pandas.core.frame.DataFrame'>\n",
            "Int64Index: 119881 entries, 0 to 40302\n",
            "Data columns (total 11 columns):\n",
            " #   Column     Non-Null Count   Dtype  \n",
            "---  ------     --------------   -----  \n",
            " 0   Agency     119881 non-null  float64\n",
            " 1   Floor      119881 non-null  object \n",
            " 2   Sqm        119881 non-null  float64\n",
            " 3   nFloor     119881 non-null  float64\n",
            " 4   Rooms      119881 non-null  float64\n",
            " 5   Type       119881 non-null  object \n",
            " 6   Source     119881 non-null  object \n",
            " 7   District   119881 non-null  object \n",
            " 8   City       119881 non-null  object \n",
            " 9   Price_USD  119881 non-null  float64\n",
            " 10  Month      119881 non-null  object \n",
            "dtypes: float64(5), object(6)\n",
            "memory usage: 11.0+ MB\n"
          ],
          "name": "stdout"
        }
      ]
    },
    {
      "cell_type": "code",
      "metadata": {
        "id": "zZyWsLHHxhI7",
        "colab_type": "code",
        "outputId": "d40e6fdb-886e-4a81-84e6-83493204f9e6",
        "colab": {
          "base_uri": "https://localhost:8080/",
          "height": 1000
        }
      },
      "source": [
        "#let's see categories and number of observations in each category for object variables\n",
        "categorical_colnames=data.select_dtypes(include=\"object\").columns\n",
        "for colname in categorical_colnames:\n",
        "    val_count=data[colname].value_counts()\n",
        "    print(colname,\"\\n\",val_count,\"\\n\",\"\\n\")\n",
        "    print(\"--------------------\")"
      ],
      "execution_count": 119,
      "outputs": [
        {
          "output_type": "stream",
          "text": [
            "Floor \n",
            " 2.0       10362\n",
            "3.0        9947\n",
            "4.0        9420\n",
            "5.0        6634\n",
            "3          5354\n",
            "          ...  \n",
            "Նկուղ         3\n",
            "0.0           3\n",
            "0             2\n",
            "21.0          1\n",
            "20.0          1\n",
            "Name: Floor, Length: 84, dtype: int64 \n",
            " \n",
            "\n",
            "--------------------\n",
            "Type \n",
            " Քարե         49511\n",
            "Մոնոլիտ      36611\n",
            "Պանելային    27437\n",
            "Այլ           6232\n",
            "Կասետային       60\n",
            "Աղյուսե         30\n",
            "Name: Type, dtype: int64 \n",
            " \n",
            "\n",
            "--------------------\n",
            "Source \n",
            " list_am        68451\n",
            "real_estate    30490\n",
            "my_realty      20940\n",
            "Name: Source, dtype: int64 \n",
            " \n",
            "\n",
            "--------------------\n",
            "District \n",
            " կենտրոն             67411\n",
            "արաբկիր             27029\n",
            "0                   12519\n",
            "աջափնյակ             2619\n",
            "դավթաշեն             1928\n",
            "նորք                 1875\n",
            "մալաթիա              1515\n",
            "ավան                 1349\n",
            "շենգավիթ             1329\n",
            "քանաքեռ              1299\n",
            "էրեբունի              434\n",
            "քանաքեռ_զեյթուն       355\n",
            "նոր_նորք              108\n",
            "մալաթիա_սեբաստիա       82\n",
            "այլ                    29\n",
            "Name: District, dtype: int64 \n",
            " \n",
            "\n",
            "--------------------\n",
            "City \n",
            " երևան      63884\n",
            "Երևան      51430\n",
            "yerevan     3905\n",
            "ереван       605\n",
            "erevan        57\n",
            "Name: City, dtype: int64 \n",
            " \n",
            "\n",
            "--------------------\n",
            "Month \n",
            " May      40300\n",
            "March    40002\n",
            "April    39579\n",
            "Name: Month, dtype: int64 \n",
            " \n",
            "\n",
            "--------------------\n"
          ],
          "name": "stdout"
        }
      ]
    },
    {
      "cell_type": "code",
      "metadata": {
        "id": "LbiokGBfxhGB",
        "colab_type": "code",
        "colab": {}
      },
      "source": [
        "#As you can see, in the City variable there are 5 types all of which is Yerevan, but in different languages or upper/lower case differnces\n",
        "#So as we know that we have only one city Yerevan, we will drop this variable\n",
        "data = data.drop(\"City\", axis=1)"
      ],
      "execution_count": 0,
      "outputs": []
    },
    {
      "cell_type": "code",
      "metadata": {
        "id": "LJBEVcGkxhDj",
        "colab_type": "code",
        "outputId": "9d5b6f3a-0c96-4193-e86c-1f07a3414706",
        "colab": {
          "base_uri": "https://localhost:8080/",
          "height": 272
        }
      },
      "source": [
        "#The type in Dicstrict with name 0, solving this issue\n",
        "data=data[data[\"District\"]!=\"0\"]\n",
        "data[\"District\"].value_counts()"
      ],
      "execution_count": 121,
      "outputs": [
        {
          "output_type": "execute_result",
          "data": {
            "text/plain": [
              "կենտրոն             67411\n",
              "արաբկիր             27029\n",
              "աջափնյակ             2619\n",
              "դավթաշեն             1928\n",
              "նորք                 1875\n",
              "մալաթիա              1515\n",
              "ավան                 1349\n",
              "շենգավիթ             1329\n",
              "քանաքեռ              1299\n",
              "էրեբունի              434\n",
              "քանաքեռ_զեյթուն       355\n",
              "նոր_նորք              108\n",
              "մալաթիա_սեբաստիա       82\n",
              "այլ                    29\n",
              "Name: District, dtype: int64"
            ]
          },
          "metadata": {
            "tags": []
          },
          "execution_count": 121
        }
      ]
    },
    {
      "cell_type": "code",
      "metadata": {
        "id": "BD_x4cH_xhBR",
        "colab_type": "code",
        "outputId": "ee5b373a-5077-4662-88f1-dc72cf6ca6e9",
        "colab": {
          "base_uri": "https://localhost:8080/",
          "height": 34
        }
      },
      "source": [
        "# summarize the shape of the data with missing rows, and not useful columns removed\n",
        "print(data.shape)"
      ],
      "execution_count": 122,
      "outputs": [
        {
          "output_type": "stream",
          "text": [
            "(107362, 10)\n"
          ],
          "name": "stdout"
        }
      ]
    },
    {
      "cell_type": "code",
      "metadata": {
        "id": "NThoWOanxg-r",
        "colab_type": "code",
        "outputId": "b7244b6d-8343-4b78-89b0-22a9510009c6",
        "colab": {
          "base_uri": "https://localhost:8080/",
          "height": 408
        }
      },
      "source": [
        "#Floor - was categorical and written differently resulting in many categories, converting it to numeric\n",
        "data['Floor']=np.where(data['Floor']=='Նկուղ ', 0, data['Floor'])\n",
        "data['Floor']=data['Floor'].apply(lambda x:float(x))\n",
        "data.Floor.value_counts()"
      ],
      "execution_count": 123,
      "outputs": [
        {
          "output_type": "execute_result",
          "data": {
            "text/plain": [
              "2.0     18376\n",
              "3.0     18080\n",
              "4.0     16759\n",
              "5.0     11666\n",
              "6.0      7860\n",
              "7.0      7020\n",
              "1.0      6539\n",
              "8.0      4968\n",
              "9.0      4710\n",
              "10.0     3328\n",
              "11.0     2475\n",
              "12.0     1831\n",
              "13.0     1273\n",
              "14.0     1108\n",
              "15.0      573\n",
              "17.0      330\n",
              "16.0      314\n",
              "18.0       70\n",
              "19.0       37\n",
              "20.0       36\n",
              "0.0         8\n",
              "21.0        1\n",
              "Name: Floor, dtype: int64"
            ]
          },
          "metadata": {
            "tags": []
          },
          "execution_count": 123
        }
      ]
    },
    {
      "cell_type": "code",
      "metadata": {
        "id": "O_94EBCIxg8Q",
        "colab_type": "code",
        "outputId": "a90193c2-b39a-4db1-c1d0-6126cd7c7ac9",
        "colab": {
          "base_uri": "https://localhost:8080/",
          "height": 204
        }
      },
      "source": [
        "data.head()"
      ],
      "execution_count": 124,
      "outputs": [
        {
          "output_type": "execute_result",
          "data": {
            "text/html": [
              "<div>\n",
              "<style scoped>\n",
              "    .dataframe tbody tr th:only-of-type {\n",
              "        vertical-align: middle;\n",
              "    }\n",
              "\n",
              "    .dataframe tbody tr th {\n",
              "        vertical-align: top;\n",
              "    }\n",
              "\n",
              "    .dataframe thead th {\n",
              "        text-align: right;\n",
              "    }\n",
              "</style>\n",
              "<table border=\"1\" class=\"dataframe\">\n",
              "  <thead>\n",
              "    <tr style=\"text-align: right;\">\n",
              "      <th></th>\n",
              "      <th>Agency</th>\n",
              "      <th>Floor</th>\n",
              "      <th>Sqm</th>\n",
              "      <th>nFloor</th>\n",
              "      <th>Rooms</th>\n",
              "      <th>Type</th>\n",
              "      <th>Source</th>\n",
              "      <th>District</th>\n",
              "      <th>Price_USD</th>\n",
              "      <th>Month</th>\n",
              "    </tr>\n",
              "  </thead>\n",
              "  <tbody>\n",
              "    <tr>\n",
              "      <th>0</th>\n",
              "      <td>1.0</td>\n",
              "      <td>8.0</td>\n",
              "      <td>140.0</td>\n",
              "      <td>13.0</td>\n",
              "      <td>3.0</td>\n",
              "      <td>Մոնոլիտ</td>\n",
              "      <td>my_realty</td>\n",
              "      <td>կենտրոն</td>\n",
              "      <td>1700.0</td>\n",
              "      <td>March</td>\n",
              "    </tr>\n",
              "    <tr>\n",
              "      <th>1</th>\n",
              "      <td>1.0</td>\n",
              "      <td>4.0</td>\n",
              "      <td>55.0</td>\n",
              "      <td>5.0</td>\n",
              "      <td>1.0</td>\n",
              "      <td>Քարե</td>\n",
              "      <td>my_realty</td>\n",
              "      <td>կենտրոն</td>\n",
              "      <td>370.0</td>\n",
              "      <td>March</td>\n",
              "    </tr>\n",
              "    <tr>\n",
              "      <th>2</th>\n",
              "      <td>1.0</td>\n",
              "      <td>6.0</td>\n",
              "      <td>63.0</td>\n",
              "      <td>7.0</td>\n",
              "      <td>2.0</td>\n",
              "      <td>Մոնոլիտ</td>\n",
              "      <td>my_realty</td>\n",
              "      <td>արաբկիր</td>\n",
              "      <td>480.0</td>\n",
              "      <td>March</td>\n",
              "    </tr>\n",
              "    <tr>\n",
              "      <th>3</th>\n",
              "      <td>1.0</td>\n",
              "      <td>7.0</td>\n",
              "      <td>100.0</td>\n",
              "      <td>16.0</td>\n",
              "      <td>2.0</td>\n",
              "      <td>Պանելային</td>\n",
              "      <td>my_realty</td>\n",
              "      <td>կենտրոն</td>\n",
              "      <td>1200.0</td>\n",
              "      <td>March</td>\n",
              "    </tr>\n",
              "    <tr>\n",
              "      <th>4</th>\n",
              "      <td>1.0</td>\n",
              "      <td>14.0</td>\n",
              "      <td>97.0</td>\n",
              "      <td>16.0</td>\n",
              "      <td>3.0</td>\n",
              "      <td>Այլ</td>\n",
              "      <td>my_realty</td>\n",
              "      <td>կենտրոն</td>\n",
              "      <td>800.0</td>\n",
              "      <td>March</td>\n",
              "    </tr>\n",
              "  </tbody>\n",
              "</table>\n",
              "</div>"
            ],
            "text/plain": [
              "   Agency  Floor    Sqm  nFloor  ...     Source District Price_USD  Month\n",
              "0     1.0    8.0  140.0    13.0  ...  my_realty  կենտրոն    1700.0  March\n",
              "1     1.0    4.0   55.0     5.0  ...  my_realty  կենտրոն     370.0  March\n",
              "2     1.0    6.0   63.0     7.0  ...  my_realty  արաբկիր     480.0  March\n",
              "3     1.0    7.0  100.0    16.0  ...  my_realty  կենտրոն    1200.0  March\n",
              "4     1.0   14.0   97.0    16.0  ...  my_realty  կենտրոն     800.0  March\n",
              "\n",
              "[5 rows x 10 columns]"
            ]
          },
          "metadata": {
            "tags": []
          },
          "execution_count": 124
        }
      ]
    },
    {
      "cell_type": "code",
      "metadata": {
        "id": "UcSfBrDpxg52",
        "colab_type": "code",
        "outputId": "37186b5d-33c3-4a83-c6f0-2675ceb08b5d",
        "colab": {
          "base_uri": "https://localhost:8080/",
          "height": 1000
        }
      },
      "source": [
        "#To see the visual representation of pairwise relationships in a dataset, a pairplot is used. Note that it only plots numeric columns.\n",
        "sns.pairplot(data)\n",
        "plt.show()"
      ],
      "execution_count": 125,
      "outputs": [
        {
          "output_type": "display_data",
          "data": {
            "image/png": "[encoded data removed]",
            "text/plain": [
              "<Figure size 1080x1080 with 42 Axes>"
            ]
          },
          "metadata": {
            "tags": [],
            "needs_background": "light"
          }
        }
      ]
    },
    {
      "cell_type": "code",
      "metadata": {
        "id": "1QU5z2rxxg3Y",
        "colab_type": "code",
        "outputId": "c8659aad-b42a-4567-d6c9-6e19ba8d4d81",
        "colab": {
          "base_uri": "https://localhost:8080/",
          "height": 235
        }
      },
      "source": [
        "#let's check for multicollinearity\n",
        "data.corr()"
      ],
      "execution_count": 126,
      "outputs": [
        {
          "output_type": "execute_result",
          "data": {
            "text/html": [
              "<div>\n",
              "<style scoped>\n",
              "    .dataframe tbody tr th:only-of-type {\n",
              "        vertical-align: middle;\n",
              "    }\n",
              "\n",
              "    .dataframe tbody tr th {\n",
              "        vertical-align: top;\n",
              "    }\n",
              "\n",
              "    .dataframe thead th {\n",
              "        text-align: right;\n",
              "    }\n",
              "</style>\n",
              "<table border=\"1\" class=\"dataframe\">\n",
              "  <thead>\n",
              "    <tr style=\"text-align: right;\">\n",
              "      <th></th>\n",
              "      <th>Agency</th>\n",
              "      <th>Floor</th>\n",
              "      <th>Sqm</th>\n",
              "      <th>nFloor</th>\n",
              "      <th>Rooms</th>\n",
              "      <th>Price_USD</th>\n",
              "    </tr>\n",
              "  </thead>\n",
              "  <tbody>\n",
              "    <tr>\n",
              "      <th>Agency</th>\n",
              "      <td>1.000000</td>\n",
              "      <td>0.020288</td>\n",
              "      <td>0.031206</td>\n",
              "      <td>0.023987</td>\n",
              "      <td>0.025700</td>\n",
              "      <td>-0.006285</td>\n",
              "    </tr>\n",
              "    <tr>\n",
              "      <th>Floor</th>\n",
              "      <td>0.020288</td>\n",
              "      <td>1.000000</td>\n",
              "      <td>0.143874</td>\n",
              "      <td>0.671952</td>\n",
              "      <td>0.063480</td>\n",
              "      <td>0.023328</td>\n",
              "    </tr>\n",
              "    <tr>\n",
              "      <th>Sqm</th>\n",
              "      <td>0.031206</td>\n",
              "      <td>0.143874</td>\n",
              "      <td>1.000000</td>\n",
              "      <td>0.189596</td>\n",
              "      <td>0.769369</td>\n",
              "      <td>0.068624</td>\n",
              "    </tr>\n",
              "    <tr>\n",
              "      <th>nFloor</th>\n",
              "      <td>0.023987</td>\n",
              "      <td>0.671952</td>\n",
              "      <td>0.189596</td>\n",
              "      <td>1.000000</td>\n",
              "      <td>0.095605</td>\n",
              "      <td>0.033372</td>\n",
              "    </tr>\n",
              "    <tr>\n",
              "      <th>Rooms</th>\n",
              "      <td>0.025700</td>\n",
              "      <td>0.063480</td>\n",
              "      <td>0.769369</td>\n",
              "      <td>0.095605</td>\n",
              "      <td>1.000000</td>\n",
              "      <td>0.047121</td>\n",
              "    </tr>\n",
              "    <tr>\n",
              "      <th>Price_USD</th>\n",
              "      <td>-0.006285</td>\n",
              "      <td>0.023328</td>\n",
              "      <td>0.068624</td>\n",
              "      <td>0.033372</td>\n",
              "      <td>0.047121</td>\n",
              "      <td>1.000000</td>\n",
              "    </tr>\n",
              "  </tbody>\n",
              "</table>\n",
              "</div>"
            ],
            "text/plain": [
              "             Agency     Floor       Sqm    nFloor     Rooms  Price_USD\n",
              "Agency     1.000000  0.020288  0.031206  0.023987  0.025700  -0.006285\n",
              "Floor      0.020288  1.000000  0.143874  0.671952  0.063480   0.023328\n",
              "Sqm        0.031206  0.143874  1.000000  0.189596  0.769369   0.068624\n",
              "nFloor     0.023987  0.671952  0.189596  1.000000  0.095605   0.033372\n",
              "Rooms      0.025700  0.063480  0.769369  0.095605  1.000000   0.047121\n",
              "Price_USD -0.006285  0.023328  0.068624  0.033372  0.047121   1.000000"
            ]
          },
          "metadata": {
            "tags": []
          },
          "execution_count": 126
        }
      ]
    },
    {
      "cell_type": "code",
      "metadata": {
        "id": "AUxs3M7uxg0I",
        "colab_type": "code",
        "outputId": "55df2734-5f73-44ea-b835-6749c55bf935",
        "colab": {
          "base_uri": "https://localhost:8080/",
          "height": 331
        }
      },
      "source": [
        "#in order to have a better representation, let's visualize the correlations\n",
        "plt.figure(figsize=(10,5))\n",
        "sns.heatmap(data.corr().abs().round(2),annot=True, cmap = \"PuBu\")\n",
        "plt.show()"
      ],
      "execution_count": 127,
      "outputs": [
        {
          "output_type": "display_data",
          "data": {
            "image/png": "[encoded data removed]",
            "text/plain": [
              "<Figure size 720x360 with 2 Axes>"
            ]
          },
          "metadata": {
            "tags": [],
            "needs_background": "light"
          }
        }
      ]
    },
    {
      "cell_type": "code",
      "metadata": {
        "id": "T-fd8oroxfSa",
        "colab_type": "code",
        "outputId": "42141676-7c74-44cb-bd3e-0c860e050b91",
        "colab": {
          "base_uri": "https://localhost:8080/",
          "height": 270
        }
      },
      "source": [
        "#plot correlation heatmap to see any correlations above or equal to 75% in absolute values\n",
        "#we will see that number of variables are highly correlated, which will affect the results.\n",
        "sns.heatmap(data.corr().abs()>=0.75, cmap = \"PuBu\")\n",
        "plt.show()"
      ],
      "execution_count": 128,
      "outputs": [
        {
          "output_type": "display_data",
          "data": {
            "image/png": "[encoded data removed]",
            "text/plain": [
              "<Figure size 432x288 with 2 Axes>"
            ]
          },
          "metadata": {
            "tags": [],
            "needs_background": "light"
          }
        }
      ]
    },
    {
      "cell_type": "code",
      "metadata": {
        "id": "qr3maIhFxfhl",
        "colab_type": "code",
        "outputId": "5dd33f64-dca9-4a28-b21d-de8753d7994c",
        "colab": {
          "base_uri": "https://localhost:8080/",
          "height": 204
        }
      },
      "source": [
        "#as we can see sqm correlates with the number of rooms, so we decided to exclude sqm, and add new variable called sqm_per_room_av = Sqm/Rooms\n",
        "# add new column using square bracket notation\n",
        "data['sqm_per_room_av'] = data['Sqm']/data['Rooms']\n",
        "data = data.drop(['Sqm'], axis=1)\n",
        "data.head()"
      ],
      "execution_count": 129,
      "outputs": [
        {
          "output_type": "execute_result",
          "data": {
            "text/html": [
              "<div>\n",
              "<style scoped>\n",
              "    .dataframe tbody tr th:only-of-type {\n",
              "        vertical-align: middle;\n",
              "    }\n",
              "\n",
              "    .dataframe tbody tr th {\n",
              "        vertical-align: top;\n",
              "    }\n",
              "\n",
              "    .dataframe thead th {\n",
              "        text-align: right;\n",
              "    }\n",
              "</style>\n",
              "<table border=\"1\" class=\"dataframe\">\n",
              "  <thead>\n",
              "    <tr style=\"text-align: right;\">\n",
              "      <th></th>\n",
              "      <th>Agency</th>\n",
              "      <th>Floor</th>\n",
              "      <th>nFloor</th>\n",
              "      <th>Rooms</th>\n",
              "      <th>Type</th>\n",
              "      <th>Source</th>\n",
              "      <th>District</th>\n",
              "      <th>Price_USD</th>\n",
              "      <th>Month</th>\n",
              "      <th>sqm_per_room_av</th>\n",
              "    </tr>\n",
              "  </thead>\n",
              "  <tbody>\n",
              "    <tr>\n",
              "      <th>0</th>\n",
              "      <td>1.0</td>\n",
              "      <td>8.0</td>\n",
              "      <td>13.0</td>\n",
              "      <td>3.0</td>\n",
              "      <td>Մոնոլիտ</td>\n",
              "      <td>my_realty</td>\n",
              "      <td>կենտրոն</td>\n",
              "      <td>1700.0</td>\n",
              "      <td>March</td>\n",
              "      <td>46.666667</td>\n",
              "    </tr>\n",
              "    <tr>\n",
              "      <th>1</th>\n",
              "      <td>1.0</td>\n",
              "      <td>4.0</td>\n",
              "      <td>5.0</td>\n",
              "      <td>1.0</td>\n",
              "      <td>Քարե</td>\n",
              "      <td>my_realty</td>\n",
              "      <td>կենտրոն</td>\n",
              "      <td>370.0</td>\n",
              "      <td>March</td>\n",
              "      <td>55.000000</td>\n",
              "    </tr>\n",
              "    <tr>\n",
              "      <th>2</th>\n",
              "      <td>1.0</td>\n",
              "      <td>6.0</td>\n",
              "      <td>7.0</td>\n",
              "      <td>2.0</td>\n",
              "      <td>Մոնոլիտ</td>\n",
              "      <td>my_realty</td>\n",
              "      <td>արաբկիր</td>\n",
              "      <td>480.0</td>\n",
              "      <td>March</td>\n",
              "      <td>31.500000</td>\n",
              "    </tr>\n",
              "    <tr>\n",
              "      <th>3</th>\n",
              "      <td>1.0</td>\n",
              "      <td>7.0</td>\n",
              "      <td>16.0</td>\n",
              "      <td>2.0</td>\n",
              "      <td>Պանելային</td>\n",
              "      <td>my_realty</td>\n",
              "      <td>կենտրոն</td>\n",
              "      <td>1200.0</td>\n",
              "      <td>March</td>\n",
              "      <td>50.000000</td>\n",
              "    </tr>\n",
              "    <tr>\n",
              "      <th>4</th>\n",
              "      <td>1.0</td>\n",
              "      <td>14.0</td>\n",
              "      <td>16.0</td>\n",
              "      <td>3.0</td>\n",
              "      <td>Այլ</td>\n",
              "      <td>my_realty</td>\n",
              "      <td>կենտրոն</td>\n",
              "      <td>800.0</td>\n",
              "      <td>March</td>\n",
              "      <td>32.333333</td>\n",
              "    </tr>\n",
              "  </tbody>\n",
              "</table>\n",
              "</div>"
            ],
            "text/plain": [
              "   Agency  Floor  nFloor  Rooms  ... District Price_USD  Month  sqm_per_room_av\n",
              "0     1.0    8.0    13.0    3.0  ...  կենտրոն    1700.0  March        46.666667\n",
              "1     1.0    4.0     5.0    1.0  ...  կենտրոն     370.0  March        55.000000\n",
              "2     1.0    6.0     7.0    2.0  ...  արաբկիր     480.0  March        31.500000\n",
              "3     1.0    7.0    16.0    2.0  ...  կենտրոն    1200.0  March        50.000000\n",
              "4     1.0   14.0    16.0    3.0  ...  կենտրոն     800.0  March        32.333333\n",
              "\n",
              "[5 rows x 10 columns]"
            ]
          },
          "metadata": {
            "tags": []
          },
          "execution_count": 129
        }
      ]
    },
    {
      "cell_type": "code",
      "metadata": {
        "id": "_9UMGnBuxfo2",
        "colab_type": "code",
        "outputId": "19ceec67-d28f-4165-f1cc-880623340497",
        "colab": {
          "base_uri": "https://localhost:8080/",
          "height": 350
        }
      },
      "source": [
        "#lets check once again for multicollinearity, to be sure that our new variable does not correlate with Rooms\n",
        "#plot correlation heatmap to see any correlations above or equal to 75% in absolute valuemmbmbbs\n",
        "sns.heatmap(data.corr().abs()>=0.75, cmap = \"PuBu\")\n",
        "plt.show()"
      ],
      "execution_count": 130,
      "outputs": [
        {
          "output_type": "display_data",
          "data": {
            "image/png": "[encoded data removed]",
            "text/plain": [
              "<Figure size 432x288 with 2 Axes>"
            ]
          },
          "metadata": {
            "tags": [],
            "needs_background": "light"
          }
        }
      ]
    },
    {
      "cell_type": "markdown",
      "metadata": {
        "id": "ctlAtzE58Ybs",
        "colab_type": "text"
      },
      "source": [
        "## Descriptive Analytics"
      ]
    },
    {
      "cell_type": "code",
      "metadata": {
        "id": "7rJKLmaqxf4c",
        "colab_type": "code",
        "outputId": "0e00b6d7-af13-40d1-bdbf-5747abdd861c",
        "colab": {
          "base_uri": "https://localhost:8080/",
          "height": 296
        }
      },
      "source": [
        "#let's visualise the distribution of price\n",
        "sns.distplot(data.Price_USD,color=\"purple\")\n",
        "plt.title(\"Distribution of Price in USD\")\n",
        "plt.show()"
      ],
      "execution_count": 131,
      "outputs": [
        {
          "output_type": "display_data",
          "data": {
            "image/png": "[encoded data removed]",
            "text/plain": [
              "<Figure size 432x288 with 1 Axes>"
            ]
          },
          "metadata": {
            "tags": [],
            "needs_background": "light"
          }
        }
      ]
    },
    {
      "cell_type": "markdown",
      "metadata": {
        "id": "YXIGoJfWEhNi",
        "colab_type": "text"
      },
      "source": [
        "As we can see, we have a right-skrewed distribution."
      ]
    },
    {
      "cell_type": "code",
      "metadata": {
        "id": "hjoH0xjcxgHo",
        "colab_type": "code",
        "outputId": "e82cbaf0-ccb4-44d4-a55a-9d52aac35140",
        "colab": {
          "base_uri": "https://localhost:8080/",
          "height": 296
        }
      },
      "source": [
        "#Lets see what the log(price) distribution will look like\n",
        "sns.distplot(np.log(data.Price_USD),color=\"purple\")\n",
        "plt.title(\"Distribution of log(Price in USD)\")\n",
        "plt.show()"
      ],
      "execution_count": 132,
      "outputs": [
        {
          "output_type": "display_data",
          "data": {
            "image/png": "[encoded data removed]",
            "text/plain": [
              "<Figure size 432x288 with 1 Axes>"
            ]
          },
          "metadata": {
            "tags": [],
            "needs_background": "light"
          }
        }
      ]
    },
    {
      "cell_type": "markdown",
      "metadata": {
        "id": "A7kPhQCkEkPH",
        "colab_type": "text"
      },
      "source": [
        "Here, the distribution is more bell-shaped."
      ]
    },
    {
      "cell_type": "code",
      "metadata": {
        "id": "1xmg8GaZxgPv",
        "colab_type": "code",
        "outputId": "d6a79c98-1914-4af3-f0d1-c4af6f97b4f5",
        "colab": {
          "base_uri": "https://localhost:8080/",
          "height": 617
        }
      },
      "source": [
        "#Let's see the relationship of price and district\n",
        "plt.figure(figsize=(10,8))\n",
        "sns.boxplot(x=\"District\", y=np.log(data[\"Price_USD\"]), data=data, showmeans=True)\n",
        "plt.xlabel(\"District\")\n",
        "plt.ylabel(\"Price in USD\")\n",
        "plt.xticks(rotation=65)\n",
        "plt.title(\"House Renting Price by price and district\",fontdict={\"fontsize\":16})\n",
        "plt.show()"
      ],
      "execution_count": 133,
      "outputs": [
        {
          "output_type": "display_data",
          "data": {
            "image/png": "[encoded data removed]",
            "text/plain": [
              "<Figure size 720x576 with 1 Axes>"
            ]
          },
          "metadata": {
            "tags": [],
            "needs_background": "light"
          }
        }
      ]
    },
    {
      "cell_type": "markdown",
      "metadata": {
        "id": "EsaErNcQE21J",
        "colab_type": "text"
      },
      "source": [
        "Kentron has the highest median and the biggest number of outliers, while other has no outliers but the median is pretty close to Kentron's."
      ]
    },
    {
      "cell_type": "code",
      "metadata": {
        "id": "8ZIJ6IWAE8jV",
        "colab_type": "code",
        "outputId": "2afcbbce-c545-4fc2-a865-ddd06c1eccc1",
        "colab": {
          "base_uri": "https://localhost:8080/",
          "height": 725
        }
      },
      "source": [
        "#let's see the Number of houses by district\n",
        "plt.figure(figsize=(10,10))\n",
        "cp=sns.countplot(x=data[\"District\"], data=data, palette='magma', orient=\"h\")\n",
        "cp.set_xticklabels(cp.get_xticklabels(),rotation=-65)\n",
        "plt.xlabel(\"District\")\n",
        "plt.title(\"Number of houses in every District\",fontdict={\"fontsize\":16})\n",
        "plt.show()"
      ],
      "execution_count": 134,
      "outputs": [
        {
          "output_type": "display_data",
          "data": {
            "image/png": "[encoded data removed]",
            "text/plain": [
              "<Figure size 720x720 with 1 Axes>"
            ]
          },
          "metadata": {
            "tags": [],
            "needs_background": "light"
          }
        }
      ]
    },
    {
      "cell_type": "markdown",
      "metadata": {
        "id": "UaBdHd68FYLE",
        "colab_type": "text"
      },
      "source": [
        "As we can see Kentron has the highest number of offerred houses for rent. Next comes Arabkir. Nor Nork and Malatia Sebastia have the lowest number of houses besided the category \"Other\"."
      ]
    },
    {
      "cell_type": "code",
      "metadata": {
        "id": "QXOoPrgAFtfc",
        "colab_type": "code",
        "outputId": "3d43081f-fc37-4932-9010-8e0ac978624e",
        "colab": {
          "base_uri": "https://localhost:8080/",
          "height": 453
        }
      },
      "source": [
        "# Mean price by district\n",
        "district_df = data.groupby(by='District').mean()\n",
        "\n",
        "plt.figure(figsize=(6,5))\n",
        "plt.plot(district_df.Price_USD)\n",
        "plt.xlabel(\"District\")\n",
        "plt.xticks(rotation=-65)\n",
        "plt.title(\"Mean Price by District\",fontdict={\"fontsize\":16})\n",
        "plt.show()"
      ],
      "execution_count": 135,
      "outputs": [
        {
          "output_type": "display_data",
          "data": {
            "image/png": "[encoded data removed]",
            "text/plain": [
              "<Figure size 432x360 with 1 Axes>"
            ]
          },
          "metadata": {
            "tags": [],
            "needs_background": "light"
          }
        }
      ]
    },
    {
      "cell_type": "markdown",
      "metadata": {
        "id": "vMQmwWsGFw1B",
        "colab_type": "text"
      },
      "source": [
        "As we can see from the graph Shengavit and Malatia Sebastia have the lowest price for renting a house. \n",
        "Interestingly, Nor Nork has the highest price for renting.\n",
        "This can be due to either renting not apartments but rather houses, like mansions, or having daily renting prices."
      ]
    },
    {
      "cell_type": "code",
      "metadata": {
        "id": "YVl2jO0c3jfk",
        "colab_type": "code",
        "colab": {
          "base_uri": "https://localhost:8080/",
          "height": 352
        },
        "outputId": "fe7a49f6-e804-432e-c2ed-45aef232c791"
      },
      "source": [
        "# number of houses by month\n",
        "plt.figure(num=None, figsize=(6,5))\n",
        "sns.countplot(x=\"Month\",data=data, palette='magma')\n",
        "plt.xlabel(\"Month\")\n",
        "plt.title(\"Number of houses by Month\",fontdict={\"fontsize\":16})\n",
        "plt.show()"
      ],
      "execution_count": 136,
      "outputs": [
        {
          "output_type": "display_data",
          "data": {
            "image/png": "[encoded data removed]",
            "text/plain": [
              "<Figure size 432x360 with 1 Axes>"
            ]
          },
          "metadata": {
            "tags": [],
            "needs_background": "light"
          }
        }
      ]
    },
    {
      "cell_type": "markdown",
      "metadata": {
        "id": "SIkLVedB3mDE",
        "colab_type": "text"
      },
      "source": [
        "As we can see there is not significant difference in the months, thus, no month is eye-catching in terms of number of houses offered for rent"
      ]
    },
    {
      "cell_type": "code",
      "metadata": {
        "id": "doq85Aj7HaAj",
        "colab_type": "code",
        "colab": {}
      },
      "source": [
        "# Let's see mean price of the houses by Month\n",
        "monthly_df_mean = data.groupby(by='Month').mean()\n",
        "\n",
        "# Let's see median price of the houses by Month\n",
        "monthly_df_median = data.groupby(by='Month').median()"
      ],
      "execution_count": 0,
      "outputs": []
    },
    {
      "cell_type": "code",
      "metadata": {
        "id": "iYgKLBncF0Vl",
        "colab_type": "code",
        "outputId": "f4641383-cfc4-456a-d6b3-e29f6808cf89",
        "colab": {
          "base_uri": "https://localhost:8080/",
          "height": 352
        }
      },
      "source": [
        "plt.figure(figsize=(20,5))\n",
        "\n",
        "plt.subplot(1,2,1)\n",
        "plt.plot(monthly_df_mean.Price_USD)\n",
        "plt.xlabel(\"Month\")\n",
        "plt.ylabel(\"Mean price\")\n",
        "plt.title('Mean price by Month', fontsize=15)\n",
        "\n",
        "plt.subplot(1,2,2)\n",
        "plt.plot(monthly_df_median.Price_USD)\n",
        "plt.xlabel(\"Month\")\n",
        "plt.ylabel(\"Median price\")\n",
        "plt.title('Median price by Month', fontsize=15)\n",
        "plt.show()"
      ],
      "execution_count": 139,
      "outputs": [
        {
          "output_type": "display_data",
          "data": {
            "image/png": "[encoded data removed]",
            "text/plain": [
              "<Figure size 1440x360 with 2 Axes>"
            ]
          },
          "metadata": {
            "tags": [],
            "needs_background": "light"
          }
        }
      ]
    },
    {
      "cell_type": "markdown",
      "metadata": {
        "id": "o1S2U15u6QlH",
        "colab_type": "text"
      },
      "source": [
        "The graphs show that we have the mean price for March and April was the same but drastically dropped for May. However, the median price remained the same during three months."
      ]
    },
    {
      "cell_type": "code",
      "metadata": {
        "id": "4tkTKhPnF2cD",
        "colab_type": "code",
        "outputId": "d9abacdb-2ab2-4bda-adda-1fcd27c6acfa",
        "colab": {
          "base_uri": "https://localhost:8080/",
          "height": 1000
        }
      },
      "source": [
        "# Price USD with different categorical variables\n",
        "for i in data.dtypes[data.dtypes==\"O\"].index.tolist():\n",
        "    plt.figure(num=None, figsize=(18,10))\n",
        "    sns.boxplot(data=data,x=i,y=\"Price_USD\", palette='BrBG', showmeans=True)\n",
        "    plt.show()"
      ],
      "execution_count": 140,
      "outputs": [
        {
          "output_type": "display_data",
          "data": {
            "image/png": "[encoded data removed]",
            "text/plain": [
              "<Figure size 1296x720 with 1 Axes>"
            ]
          },
          "metadata": {
            "tags": [],
            "needs_background": "light"
          }
        },
        {
          "output_type": "display_data",
          "data": {
            "image/png": "[encoded data removed]",
            "text/plain": [
              "<Figure size 1296x720 with 1 Axes>"
            ]
          },
          "metadata": {
            "tags": [],
            "needs_background": "light"
          }
        },
        {
          "output_type": "display_data",
          "data": {
            "image/png": "[encoded data removed]",
            "text/plain": [
              "<Figure size 1296x720 with 1 Axes>"
            ]
          },
          "metadata": {
            "tags": [],
            "needs_background": "light"
          }
        },
        {
          "output_type": "display_data",
          "data": {
            "image/png": "[encoded data removed]",
            "text/plain": [
              "<Figure size 1296x720 with 1 Axes>"
            ]
          },
          "metadata": {
            "tags": [],
            "needs_background": "light"
          }
        }
      ]
    },
    {
      "cell_type": "markdown",
      "metadata": {
        "id": "MW_Hw-UhF430",
        "colab_type": "text"
      },
      "source": [
        "The medians for 3 different Sources are pretty much the same, however, my realty source has the fewest outliers. Then comes real estate. List am has the highest amount of outliers from Price."
      ]
    },
    {
      "cell_type": "markdown",
      "metadata": {
        "id": "2vUb5Ag3F7TE",
        "colab_type": "text"
      },
      "source": [
        "When comparing Price_USD with different Districts, we found out that the district \"other\" has no outliers, this is pretty obvious, as this is generally the type that is not defined in other categories of the variable. Kanaker Zeitun, Malatia has the next fewest outliers. Kentron has the highest number of outliers. All of the medians are more or less in the same level."
      ]
    },
    {
      "cell_type": "markdown",
      "metadata": {
        "id": "P2OVQjTyF-PV",
        "colab_type": "text"
      },
      "source": [
        "When comparing Price_USD with different Types of houses, we found out that Kasetayin and Aghyuse types of houses have no outliers, \"other\" type has few of them. Panelayin, Qare and Monolit have the highest amount. The medians of all variables are also pretty much the same."
      ]
    },
    {
      "cell_type": "markdown",
      "metadata": {
        "id": "AIgiyOkvG3-R",
        "colab_type": "text"
      },
      "source": [
        "As we can see, the highest number of outliers are in the month April, while May has the lowest number."
      ]
    },
    {
      "cell_type": "markdown",
      "metadata": {
        "id": "90RNxvq18dQk",
        "colab_type": "text"
      },
      "source": [
        "## Linear Regression"
      ]
    },
    {
      "cell_type": "code",
      "metadata": {
        "id": "rD4QTzd7xgOB",
        "colab_type": "code",
        "outputId": "94702d14-9d60-4e00-da1e-8c9b1515bccc",
        "colab": {
          "base_uri": "https://localhost:8080/",
          "height": 224
        }
      },
      "source": [
        "#let's convert categorical variables in the dataset into dummy variables\n",
        "data=pd.get_dummies(data,drop_first=True)\n",
        "data.head()"
      ],
      "execution_count": 141,
      "outputs": [
        {
          "output_type": "execute_result",
          "data": {
            "text/html": [
              "<div>\n",
              "<style scoped>\n",
              "    .dataframe tbody tr th:only-of-type {\n",
              "        vertical-align: middle;\n",
              "    }\n",
              "\n",
              "    .dataframe tbody tr th {\n",
              "        vertical-align: top;\n",
              "    }\n",
              "\n",
              "    .dataframe thead th {\n",
              "        text-align: right;\n",
              "    }\n",
              "</style>\n",
              "<table border=\"1\" class=\"dataframe\">\n",
              "  <thead>\n",
              "    <tr style=\"text-align: right;\">\n",
              "      <th></th>\n",
              "      <th>Agency</th>\n",
              "      <th>Floor</th>\n",
              "      <th>nFloor</th>\n",
              "      <th>Rooms</th>\n",
              "      <th>Price_USD</th>\n",
              "      <th>sqm_per_room_av</th>\n",
              "      <th>Type_Այլ</th>\n",
              "      <th>Type_Կասետային</th>\n",
              "      <th>Type_Մոնոլիտ</th>\n",
              "      <th>Type_Պանելային</th>\n",
              "      <th>Type_Քարե</th>\n",
              "      <th>Source_my_realty</th>\n",
              "      <th>Source_real_estate</th>\n",
              "      <th>District_աջափնյակ</th>\n",
              "      <th>District_ավան</th>\n",
              "      <th>District_արաբկիր</th>\n",
              "      <th>District_դավթաշեն</th>\n",
              "      <th>District_էրեբունի</th>\n",
              "      <th>District_կենտրոն</th>\n",
              "      <th>District_մալաթիա</th>\n",
              "      <th>District_մալաթիա_սեբաստիա</th>\n",
              "      <th>District_նոր_նորք</th>\n",
              "      <th>District_նորք</th>\n",
              "      <th>District_շենգավիթ</th>\n",
              "      <th>District_քանաքեռ</th>\n",
              "      <th>District_քանաքեռ_զեյթուն</th>\n",
              "      <th>Month_March</th>\n",
              "      <th>Month_May</th>\n",
              "    </tr>\n",
              "  </thead>\n",
              "  <tbody>\n",
              "    <tr>\n",
              "      <th>0</th>\n",
              "      <td>1.0</td>\n",
              "      <td>8.0</td>\n",
              "      <td>13.0</td>\n",
              "      <td>3.0</td>\n",
              "      <td>1700.0</td>\n",
              "      <td>46.666667</td>\n",
              "      <td>0</td>\n",
              "      <td>0</td>\n",
              "      <td>1</td>\n",
              "      <td>0</td>\n",
              "      <td>0</td>\n",
              "      <td>1</td>\n",
              "      <td>0</td>\n",
              "      <td>0</td>\n",
              "      <td>0</td>\n",
              "      <td>0</td>\n",
              "      <td>0</td>\n",
              "      <td>0</td>\n",
              "      <td>1</td>\n",
              "      <td>0</td>\n",
              "      <td>0</td>\n",
              "      <td>0</td>\n",
              "      <td>0</td>\n",
              "      <td>0</td>\n",
              "      <td>0</td>\n",
              "      <td>0</td>\n",
              "      <td>1</td>\n",
              "      <td>0</td>\n",
              "    </tr>\n",
              "    <tr>\n",
              "      <th>1</th>\n",
              "      <td>1.0</td>\n",
              "      <td>4.0</td>\n",
              "      <td>5.0</td>\n",
              "      <td>1.0</td>\n",
              "      <td>370.0</td>\n",
              "      <td>55.000000</td>\n",
              "      <td>0</td>\n",
              "      <td>0</td>\n",
              "      <td>0</td>\n",
              "      <td>0</td>\n",
              "      <td>1</td>\n",
              "      <td>1</td>\n",
              "      <td>0</td>\n",
              "      <td>0</td>\n",
              "      <td>0</td>\n",
              "      <td>0</td>\n",
              "      <td>0</td>\n",
              "      <td>0</td>\n",
              "      <td>1</td>\n",
              "      <td>0</td>\n",
              "      <td>0</td>\n",
              "      <td>0</td>\n",
              "      <td>0</td>\n",
              "      <td>0</td>\n",
              "      <td>0</td>\n",
              "      <td>0</td>\n",
              "      <td>1</td>\n",
              "      <td>0</td>\n",
              "    </tr>\n",
              "    <tr>\n",
              "      <th>2</th>\n",
              "      <td>1.0</td>\n",
              "      <td>6.0</td>\n",
              "      <td>7.0</td>\n",
              "      <td>2.0</td>\n",
              "      <td>480.0</td>\n",
              "      <td>31.500000</td>\n",
              "      <td>0</td>\n",
              "      <td>0</td>\n",
              "      <td>1</td>\n",
              "      <td>0</td>\n",
              "      <td>0</td>\n",
              "      <td>1</td>\n",
              "      <td>0</td>\n",
              "      <td>0</td>\n",
              "      <td>0</td>\n",
              "      <td>1</td>\n",
              "      <td>0</td>\n",
              "      <td>0</td>\n",
              "      <td>0</td>\n",
              "      <td>0</td>\n",
              "      <td>0</td>\n",
              "      <td>0</td>\n",
              "      <td>0</td>\n",
              "      <td>0</td>\n",
              "      <td>0</td>\n",
              "      <td>0</td>\n",
              "      <td>1</td>\n",
              "      <td>0</td>\n",
              "    </tr>\n",
              "    <tr>\n",
              "      <th>3</th>\n",
              "      <td>1.0</td>\n",
              "      <td>7.0</td>\n",
              "      <td>16.0</td>\n",
              "      <td>2.0</td>\n",
              "      <td>1200.0</td>\n",
              "      <td>50.000000</td>\n",
              "      <td>0</td>\n",
              "      <td>0</td>\n",
              "      <td>0</td>\n",
              "      <td>1</td>\n",
              "      <td>0</td>\n",
              "      <td>1</td>\n",
              "      <td>0</td>\n",
              "      <td>0</td>\n",
              "      <td>0</td>\n",
              "      <td>0</td>\n",
              "      <td>0</td>\n",
              "      <td>0</td>\n",
              "      <td>1</td>\n",
              "      <td>0</td>\n",
              "      <td>0</td>\n",
              "      <td>0</td>\n",
              "      <td>0</td>\n",
              "      <td>0</td>\n",
              "      <td>0</td>\n",
              "      <td>0</td>\n",
              "      <td>1</td>\n",
              "      <td>0</td>\n",
              "    </tr>\n",
              "    <tr>\n",
              "      <th>4</th>\n",
              "      <td>1.0</td>\n",
              "      <td>14.0</td>\n",
              "      <td>16.0</td>\n",
              "      <td>3.0</td>\n",
              "      <td>800.0</td>\n",
              "      <td>32.333333</td>\n",
              "      <td>1</td>\n",
              "      <td>0</td>\n",
              "      <td>0</td>\n",
              "      <td>0</td>\n",
              "      <td>0</td>\n",
              "      <td>1</td>\n",
              "      <td>0</td>\n",
              "      <td>0</td>\n",
              "      <td>0</td>\n",
              "      <td>0</td>\n",
              "      <td>0</td>\n",
              "      <td>0</td>\n",
              "      <td>1</td>\n",
              "      <td>0</td>\n",
              "      <td>0</td>\n",
              "      <td>0</td>\n",
              "      <td>0</td>\n",
              "      <td>0</td>\n",
              "      <td>0</td>\n",
              "      <td>0</td>\n",
              "      <td>1</td>\n",
              "      <td>0</td>\n",
              "    </tr>\n",
              "  </tbody>\n",
              "</table>\n",
              "</div>"
            ],
            "text/plain": [
              "   Agency  Floor  nFloor  ...  District_քանաքեռ_զեյթուն  Month_March  Month_May\n",
              "0     1.0    8.0    13.0  ...                         0            1          0\n",
              "1     1.0    4.0     5.0  ...                         0            1          0\n",
              "2     1.0    6.0     7.0  ...                         0            1          0\n",
              "3     1.0    7.0    16.0  ...                         0            1          0\n",
              "4     1.0   14.0    16.0  ...                         0            1          0\n",
              "\n",
              "[5 rows x 28 columns]"
            ]
          },
          "metadata": {
            "tags": []
          },
          "execution_count": 141
        }
      ]
    },
    {
      "cell_type": "code",
      "metadata": {
        "id": "5sGtHFnkxgD9",
        "colab_type": "code",
        "colab": {}
      },
      "source": [
        "Y=np.log(data[\"Price_USD\"])\n",
        "X=data.drop(\"Price_USD\", axis=1)"
      ],
      "execution_count": 0,
      "outputs": []
    },
    {
      "cell_type": "code",
      "metadata": {
        "id": "l79C3HIdxgA7",
        "colab_type": "code",
        "colab": {}
      },
      "source": [
        "#Splitting the data into train and test sets 0s are for train and 1s for test sets\n",
        "X0, X1, Y0, Y1 = train_test_split(X, Y, test_size=0.25, random_state=42)"
      ],
      "execution_count": 0,
      "outputs": []
    },
    {
      "cell_type": "code",
      "metadata": {
        "id": "d2UB5CCFxf-G",
        "colab_type": "code",
        "colab": {}
      },
      "source": [
        "model_linear= sm.OLS(Y0,sm.add_constant(X0))\n",
        "#building the model\n",
        "results=model_linear.fit()"
      ],
      "execution_count": 0,
      "outputs": []
    },
    {
      "cell_type": "code",
      "metadata": {
        "id": "WujDk33lxf0l",
        "colab_type": "code",
        "outputId": "6d41ccf5-aa77-4660-cf8d-312991b5c25d",
        "colab": {
          "base_uri": "https://localhost:8080/",
          "height": 1000
        }
      },
      "source": [
        "#let's see the summary of the model\n",
        "results.summary()"
      ],
      "execution_count": 145,
      "outputs": [
        {
          "output_type": "execute_result",
          "data": {
            "text/html": [
              "<table class=\"simpletable\">\n",
              "<caption>OLS Regression Results</caption>\n",
              "<tr>\n",
              "  <th>Dep. Variable:</th>        <td>Price_USD</td>    <th>  R-squared:         </th> <td>   0.568</td> \n",
              "</tr>\n",
              "<tr>\n",
              "  <th>Model:</th>                   <td>OLS</td>       <th>  Adj. R-squared:    </th> <td>   0.568</td> \n",
              "</tr>\n",
              "<tr>\n",
              "  <th>Method:</th>             <td>Least Squares</td>  <th>  F-statistic:       </th> <td>   3917.</td> \n",
              "</tr>\n",
              "<tr>\n",
              "  <th>Date:</th>             <td>Fri, 15 May 2020</td> <th>  Prob (F-statistic):</th>  <td>  0.00</td>  \n",
              "</tr>\n",
              "<tr>\n",
              "  <th>Time:</th>                 <td>20:55:32</td>     <th>  Log-Likelihood:    </th> <td> -34945.</td> \n",
              "</tr>\n",
              "<tr>\n",
              "  <th>No. Observations:</th>      <td> 80521</td>      <th>  AIC:               </th> <td>6.995e+04</td>\n",
              "</tr>\n",
              "<tr>\n",
              "  <th>Df Residuals:</th>          <td> 80493</td>      <th>  BIC:               </th> <td>7.021e+04</td>\n",
              "</tr>\n",
              "<tr>\n",
              "  <th>Df Model:</th>              <td>    27</td>      <th>                     </th>     <td> </td>    \n",
              "</tr>\n",
              "<tr>\n",
              "  <th>Covariance Type:</th>      <td>nonrobust</td>    <th>                     </th>     <td> </td>    \n",
              "</tr>\n",
              "</table>\n",
              "<table class=\"simpletable\">\n",
              "<tr>\n",
              "              <td></td>                 <th>coef</th>     <th>std err</th>      <th>t</th>      <th>P>|t|</th>  <th>[0.025</th>    <th>0.975]</th>  \n",
              "</tr>\n",
              "<tr>\n",
              "  <th>const</th>                     <td>    4.8004</td> <td>    0.116</td> <td>   41.233</td> <td> 0.000</td> <td>    4.572</td> <td>    5.029</td>\n",
              "</tr>\n",
              "<tr>\n",
              "  <th>Agency</th>                    <td>    0.0604</td> <td>    0.012</td> <td>    4.829</td> <td> 0.000</td> <td>    0.036</td> <td>    0.085</td>\n",
              "</tr>\n",
              "<tr>\n",
              "  <th>Floor</th>                     <td>   -0.0002</td> <td>    0.001</td> <td>   -0.325</td> <td> 0.745</td> <td>   -0.001</td> <td>    0.001</td>\n",
              "</tr>\n",
              "<tr>\n",
              "  <th>nFloor</th>                    <td>    0.0110</td> <td>    0.001</td> <td>   20.464</td> <td> 0.000</td> <td>    0.010</td> <td>    0.012</td>\n",
              "</tr>\n",
              "<tr>\n",
              "  <th>Rooms</th>                     <td>    0.3214</td> <td>    0.002</td> <td>  191.384</td> <td> 0.000</td> <td>    0.318</td> <td>    0.325</td>\n",
              "</tr>\n",
              "<tr>\n",
              "  <th>sqm_per_room_av</th>           <td>    0.0158</td> <td>    0.000</td> <td>  102.195</td> <td> 0.000</td> <td>    0.016</td> <td>    0.016</td>\n",
              "</tr>\n",
              "<tr>\n",
              "  <th>Type_Այլ</th>                  <td>    0.0269</td> <td>    0.080</td> <td>    0.336</td> <td> 0.737</td> <td>   -0.130</td> <td>    0.184</td>\n",
              "</tr>\n",
              "<tr>\n",
              "  <th>Type_Կասետային</th>            <td>   -0.0090</td> <td>    0.101</td> <td>   -0.090</td> <td> 0.929</td> <td>   -0.207</td> <td>    0.189</td>\n",
              "</tr>\n",
              "<tr>\n",
              "  <th>Type_Մոնոլիտ</th>              <td>    0.1753</td> <td>    0.080</td> <td>    2.196</td> <td> 0.028</td> <td>    0.019</td> <td>    0.332</td>\n",
              "</tr>\n",
              "<tr>\n",
              "  <th>Type_Պանելային</th>            <td>   -0.1384</td> <td>    0.080</td> <td>   -1.735</td> <td> 0.083</td> <td>   -0.295</td> <td>    0.018</td>\n",
              "</tr>\n",
              "<tr>\n",
              "  <th>Type_Քարե</th>                 <td>   -0.0111</td> <td>    0.080</td> <td>   -0.139</td> <td> 0.889</td> <td>   -0.168</td> <td>    0.145</td>\n",
              "</tr>\n",
              "<tr>\n",
              "  <th>Source_my_realty</th>          <td>    0.1380</td> <td>    0.004</td> <td>   36.945</td> <td> 0.000</td> <td>    0.131</td> <td>    0.145</td>\n",
              "</tr>\n",
              "<tr>\n",
              "  <th>Source_real_estate</th>        <td>    0.0246</td> <td>    0.003</td> <td>    7.545</td> <td> 0.000</td> <td>    0.018</td> <td>    0.031</td>\n",
              "</tr>\n",
              "<tr>\n",
              "  <th>District_աջափնյակ</th>         <td>   -0.3230</td> <td>    0.084</td> <td>   -3.843</td> <td> 0.000</td> <td>   -0.488</td> <td>   -0.158</td>\n",
              "</tr>\n",
              "<tr>\n",
              "  <th>District_ավան</th>             <td>   -0.4255</td> <td>    0.084</td> <td>   -5.038</td> <td> 0.000</td> <td>   -0.591</td> <td>   -0.260</td>\n",
              "</tr>\n",
              "<tr>\n",
              "  <th>District_արաբկիր</th>          <td>   -0.1474</td> <td>    0.084</td> <td>   -1.761</td> <td> 0.078</td> <td>   -0.311</td> <td>    0.017</td>\n",
              "</tr>\n",
              "<tr>\n",
              "  <th>District_դավթաշեն</th>         <td>   -0.2663</td> <td>    0.084</td> <td>   -3.163</td> <td> 0.002</td> <td>   -0.431</td> <td>   -0.101</td>\n",
              "</tr>\n",
              "<tr>\n",
              "  <th>District_էրեբունի</th>         <td>   -0.3434</td> <td>    0.086</td> <td>   -3.988</td> <td> 0.000</td> <td>   -0.512</td> <td>   -0.175</td>\n",
              "</tr>\n",
              "<tr>\n",
              "  <th>District_կենտրոն</th>          <td>    0.1602</td> <td>    0.084</td> <td>    1.915</td> <td> 0.055</td> <td>   -0.004</td> <td>    0.324</td>\n",
              "</tr>\n",
              "<tr>\n",
              "  <th>District_մալաթիա</th>          <td>   -0.4452</td> <td>    0.084</td> <td>   -5.278</td> <td> 0.000</td> <td>   -0.611</td> <td>   -0.280</td>\n",
              "</tr>\n",
              "<tr>\n",
              "  <th>District_մալաթիա_սեբաստիա</th> <td>   -0.2275</td> <td>    0.097</td> <td>   -2.347</td> <td> 0.019</td> <td>   -0.418</td> <td>   -0.038</td>\n",
              "</tr>\n",
              "<tr>\n",
              "  <th>District_նոր_նորք</th>         <td>   -0.0362</td> <td>    0.093</td> <td>   -0.389</td> <td> 0.697</td> <td>   -0.218</td> <td>    0.146</td>\n",
              "</tr>\n",
              "<tr>\n",
              "  <th>District_նորք</th>             <td>   -0.4203</td> <td>    0.084</td> <td>   -4.989</td> <td> 0.000</td> <td>   -0.585</td> <td>   -0.255</td>\n",
              "</tr>\n",
              "<tr>\n",
              "  <th>District_շենգավիթ</th>         <td>   -0.3589</td> <td>    0.084</td> <td>   -4.248</td> <td> 0.000</td> <td>   -0.524</td> <td>   -0.193</td>\n",
              "</tr>\n",
              "<tr>\n",
              "  <th>District_քանաքեռ</th>          <td>   -0.3402</td> <td>    0.084</td> <td>   -4.028</td> <td> 0.000</td> <td>   -0.506</td> <td>   -0.175</td>\n",
              "</tr>\n",
              "<tr>\n",
              "  <th>District_քանաքեռ_զեյթուն</th>  <td>   -0.2955</td> <td>    0.087</td> <td>   -3.402</td> <td> 0.001</td> <td>   -0.466</td> <td>   -0.125</td>\n",
              "</tr>\n",
              "<tr>\n",
              "  <th>Month_March</th>               <td>    0.0193</td> <td>    0.003</td> <td>    5.935</td> <td> 0.000</td> <td>    0.013</td> <td>    0.026</td>\n",
              "</tr>\n",
              "<tr>\n",
              "  <th>Month_May</th>                 <td>    0.0093</td> <td>    0.003</td> <td>    2.904</td> <td> 0.004</td> <td>    0.003</td> <td>    0.016</td>\n",
              "</tr>\n",
              "</table>\n",
              "<table class=\"simpletable\">\n",
              "<tr>\n",
              "  <th>Omnibus:</th>       <td>77846.940</td> <th>  Durbin-Watson:     </th>   <td>   2.005</td>  \n",
              "</tr>\n",
              "<tr>\n",
              "  <th>Prob(Omnibus):</th>  <td> 0.000</td>   <th>  Jarque-Bera (JB):  </th> <td>12573075.955</td>\n",
              "</tr>\n",
              "<tr>\n",
              "  <th>Skew:</th>           <td> 4.285</td>   <th>  Prob(JB):          </th>   <td>    0.00</td>  \n",
              "</tr>\n",
              "<tr>\n",
              "  <th>Kurtosis:</th>       <td>63.614</td>   <th>  Cond. No.          </th>   <td>8.23e+03</td>  \n",
              "</tr>\n",
              "</table><br/><br/>Warnings:<br/>[1] Standard Errors assume that the covariance matrix of the errors is correctly specified.<br/>[2] The condition number is large, 8.23e+03. This might indicate that there are<br/>strong multicollinearity or other numerical problems."
            ],
            "text/plain": [
              "<class 'statsmodels.iolib.summary.Summary'>\n",
              "\"\"\"\n",
              "                            OLS Regression Results                            \n",
              "==============================================================================\n",
              "Dep. Variable:              Price_USD   R-squared:                       0.568\n",
              "Model:                            OLS   Adj. R-squared:                  0.568\n",
              "Method:                 Least Squares   F-statistic:                     3917.\n",
              "Date:                Fri, 15 May 2020   Prob (F-statistic):               0.00\n",
              "Time:                        20:55:32   Log-Likelihood:                -34945.\n",
              "No. Observations:               80521   AIC:                         6.995e+04\n",
              "Df Residuals:                   80493   BIC:                         7.021e+04\n",
              "Df Model:                          27                                         \n",
              "Covariance Type:            nonrobust                                         \n",
              "=============================================================================================\n",
              "                                coef    std err          t      P>|t|      [0.025      0.975]\n",
              "---------------------------------------------------------------------------------------------\n",
              "const                         4.8004      0.116     41.233      0.000       4.572       5.029\n",
              "Agency                        0.0604      0.012      4.829      0.000       0.036       0.085\n",
              "Floor                        -0.0002      0.001     -0.325      0.745      -0.001       0.001\n",
              "nFloor                        0.0110      0.001     20.464      0.000       0.010       0.012\n",
              "Rooms                         0.3214      0.002    191.384      0.000       0.318       0.325\n",
              "sqm_per_room_av               0.0158      0.000    102.195      0.000       0.016       0.016\n",
              "Type_Այլ                      0.0269      0.080      0.336      0.737      -0.130       0.184\n",
              "Type_Կասետային               -0.0090      0.101     -0.090      0.929      -0.207       0.189\n",
              "Type_Մոնոլիտ                  0.1753      0.080      2.196      0.028       0.019       0.332\n",
              "Type_Պանելային               -0.1384      0.080     -1.735      0.083      -0.295       0.018\n",
              "Type_Քարե                    -0.0111      0.080     -0.139      0.889      -0.168       0.145\n",
              "Source_my_realty              0.1380      0.004     36.945      0.000       0.131       0.145\n",
              "Source_real_estate            0.0246      0.003      7.545      0.000       0.018       0.031\n",
              "District_աջափնյակ            -0.3230      0.084     -3.843      0.000      -0.488      -0.158\n",
              "District_ավան                -0.4255      0.084     -5.038      0.000      -0.591      -0.260\n",
              "District_արաբկիր             -0.1474      0.084     -1.761      0.078      -0.311       0.017\n",
              "District_դավթաշեն            -0.2663      0.084     -3.163      0.002      -0.431      -0.101\n",
              "District_էրեբունի            -0.3434      0.086     -3.988      0.000      -0.512      -0.175\n",
              "District_կենտրոն              0.1602      0.084      1.915      0.055      -0.004       0.324\n",
              "District_մալաթիա             -0.4452      0.084     -5.278      0.000      -0.611      -0.280\n",
              "District_մալաթիա_սեբաստիա    -0.2275      0.097     -2.347      0.019      -0.418      -0.038\n",
              "District_նոր_նորք            -0.0362      0.093     -0.389      0.697      -0.218       0.146\n",
              "District_նորք                -0.4203      0.084     -4.989      0.000      -0.585      -0.255\n",
              "District_շենգավիթ            -0.3589      0.084     -4.248      0.000      -0.524      -0.193\n",
              "District_քանաքեռ             -0.3402      0.084     -4.028      0.000      -0.506      -0.175\n",
              "District_քանաքեռ_զեյթուն     -0.2955      0.087     -3.402      0.001      -0.466      -0.125\n",
              "Month_March                   0.0193      0.003      5.935      0.000       0.013       0.026\n",
              "Month_May                     0.0093      0.003      2.904      0.004       0.003       0.016\n",
              "==============================================================================\n",
              "Omnibus:                    77846.940   Durbin-Watson:                   2.005\n",
              "Prob(Omnibus):                  0.000   Jarque-Bera (JB):         12573075.955\n",
              "Skew:                           4.285   Prob(JB):                         0.00\n",
              "Kurtosis:                      63.614   Cond. No.                     8.23e+03\n",
              "==============================================================================\n",
              "\n",
              "Warnings:\n",
              "[1] Standard Errors assume that the covariance matrix of the errors is correctly specified.\n",
              "[2] The condition number is large, 8.23e+03. This might indicate that there are\n",
              "strong multicollinearity or other numerical problems.\n",
              "\"\"\""
            ]
          },
          "metadata": {
            "tags": []
          },
          "execution_count": 145
        }
      ]
    },
    {
      "cell_type": "code",
      "metadata": {
        "id": "Xdq4B-TZxfyK",
        "colab_type": "code",
        "outputId": "2a94452c-9022-4dad-cc45-326451f7549a",
        "colab": {
          "base_uri": "https://localhost:8080/",
          "height": 374
        }
      },
      "source": [
        "#Let's see the significant variables\n",
        "results.pvalues[results.pvalues<=0.05]"
      ],
      "execution_count": 146,
      "outputs": [
        {
          "output_type": "execute_result",
          "data": {
            "text/plain": [
              "const                         0.000000e+00\n",
              "Agency                        1.376889e-06\n",
              "nFloor                        7.826053e-93\n",
              "Rooms                         0.000000e+00\n",
              "sqm_per_room_av               0.000000e+00\n",
              "Type_Մոնոլիտ                  2.811827e-02\n",
              "Source_my_realty             2.721085e-296\n",
              "Source_real_estate            4.584017e-14\n",
              "District_աջափնյակ             1.216552e-04\n",
              "District_ավան                 4.716221e-07\n",
              "District_դավթաշեն             1.561383e-03\n",
              "District_էրեբունի             6.672106e-05\n",
              "District_մալաթիա              1.311879e-07\n",
              "District_մալաթիա_սեբաստիա     1.891697e-02\n",
              "District_նորք                 6.080306e-07\n",
              "District_շենգավիթ             2.159464e-05\n",
              "District_քանաքեռ              5.639884e-05\n",
              "District_քանաքեռ_զեյթուն      6.688897e-04\n",
              "Month_March                   2.957021e-09\n",
              "Month_May                     3.689789e-03\n",
              "dtype: float64"
            ]
          },
          "metadata": {
            "tags": []
          },
          "execution_count": 146
        }
      ]
    },
    {
      "cell_type": "code",
      "metadata": {
        "id": "H-t8PcmIxfwW",
        "colab_type": "code",
        "outputId": "c5e04674-c5ce-4a91-ad3f-48f0f4b9511e",
        "colab": {
          "base_uri": "https://localhost:8080/",
          "height": 170
        }
      },
      "source": [
        "#not significant ones\n",
        "results.pvalues[results.pvalues>0.05]"
      ],
      "execution_count": 147,
      "outputs": [
        {
          "output_type": "execute_result",
          "data": {
            "text/plain": [
              "Floor                0.745146\n",
              "Type_Այլ             0.736509\n",
              "Type_Կասետային       0.928607\n",
              "Type_Պանելային       0.082798\n",
              "Type_Քարե            0.889159\n",
              "District_արաբկիր     0.078175\n",
              "District_կենտրոն     0.055435\n",
              "District_նոր_նորք    0.696968\n",
              "dtype: float64"
            ]
          },
          "metadata": {
            "tags": []
          },
          "execution_count": 147
        }
      ]
    },
    {
      "cell_type": "code",
      "metadata": {
        "id": "-7gJbTt9xfmi",
        "colab_type": "code",
        "colab": {}
      },
      "source": [
        "Y0_linear=results.predict(sm.add_constant(X0))\n",
        "Y1_linear=results.predict(sm.add_constant(X1))"
      ],
      "execution_count": 0,
      "outputs": []
    },
    {
      "cell_type": "code",
      "metadata": {
        "id": "_gVWRCp_9gqd",
        "colab_type": "code",
        "outputId": "984af77f-fcd1-4fd1-cc58-74daa2433a74",
        "colab": {
          "base_uri": "https://localhost:8080/",
          "height": 51
        }
      },
      "source": [
        "MSE_train = mean_squared_error(Y0, Y0_linear)\n",
        "MSE_test = mean_squared_error(Y1, Y1_linear)\n",
        "print(\"MSE_train:\", MSE_train)\n",
        "print(\"MSE_test:\", MSE_test)"
      ],
      "execution_count": 149,
      "outputs": [
        {
          "output_type": "stream",
          "text": [
            "MSE_train: 0.13947039704284936\n",
            "MSE_test: 0.13902879154327072\n"
          ],
          "name": "stdout"
        }
      ]
    },
    {
      "cell_type": "code",
      "metadata": {
        "id": "a4J_TJPI9gnM",
        "colab_type": "code",
        "outputId": "18284454-4efd-46b0-d256-0851a8373c8d",
        "colab": {
          "base_uri": "https://localhost:8080/",
          "height": 51
        }
      },
      "source": [
        "RMSE_train = sqrt(MSE_train)\n",
        "RMSE_test = sqrt(MSE_test)\n",
        "print(\"RMSE_train:\", RMSE_train)\n",
        "print(\"RMSE_test:\", RMSE_test)"
      ],
      "execution_count": 150,
      "outputs": [
        {
          "output_type": "stream",
          "text": [
            "RMSE_train: 0.37345735639139493\n",
            "RMSE_test: 0.3728656481137284\n"
          ],
          "name": "stdout"
        }
      ]
    },
    {
      "cell_type": "code",
      "metadata": {
        "id": "ycbM7DjE9gh6",
        "colab_type": "code",
        "outputId": "5ad9648b-1646-4e37-9529-730eaf0b7c9e",
        "colab": {
          "base_uri": "https://localhost:8080/",
          "height": 51
        }
      },
      "source": [
        "#let's see r-squared for train and test sets for the model\n",
        "print(\"R-squared Train:\",r2_score(Y0,Y0_linear))\n",
        "print(\"R-squared Test:\",r2_score(Y1,Y1_linear))"
      ],
      "execution_count": 151,
      "outputs": [
        {
          "output_type": "stream",
          "text": [
            "R-squared Train: 0.5678543249021764\n",
            "R-squared Test: 0.5729134865949432\n"
          ],
          "name": "stdout"
        }
      ]
    },
    {
      "cell_type": "markdown",
      "metadata": {
        "id": "-bc9RWHo9w4H",
        "colab_type": "text"
      },
      "source": [
        "Improving"
      ]
    },
    {
      "cell_type": "code",
      "metadata": {
        "id": "PX5F_Jq19gdI",
        "colab_type": "code",
        "colab": {}
      },
      "source": [
        "Y0_second=Y0\n",
        "X0_second=X0.drop([\"Floor\",\"Type_Կասետային\",\"Type_Քարե\"], axis=1)"
      ],
      "execution_count": 0,
      "outputs": []
    },
    {
      "cell_type": "code",
      "metadata": {
        "id": "xaVUszas9gZW",
        "colab_type": "code",
        "colab": {}
      },
      "source": [
        "results_1= sm.OLS(Y0_second,sm.add_constant(X0_second)).fit()"
      ],
      "execution_count": 0,
      "outputs": []
    },
    {
      "cell_type": "code",
      "metadata": {
        "id": "a-wVmyAF9gWI",
        "colab_type": "code",
        "outputId": "c0e478e0-adde-408f-e06d-d41f6920006d",
        "colab": {
          "base_uri": "https://localhost:8080/",
          "height": 961
        }
      },
      "source": [
        "results_1.summary()"
      ],
      "execution_count": 154,
      "outputs": [
        {
          "output_type": "execute_result",
          "data": {
            "text/html": [
              "<table class=\"simpletable\">\n",
              "<caption>OLS Regression Results</caption>\n",
              "<tr>\n",
              "  <th>Dep. Variable:</th>        <td>Price_USD</td>    <th>  R-squared:         </th> <td>   0.568</td> \n",
              "</tr>\n",
              "<tr>\n",
              "  <th>Model:</th>                   <td>OLS</td>       <th>  Adj. R-squared:    </th> <td>   0.568</td> \n",
              "</tr>\n",
              "<tr>\n",
              "  <th>Method:</th>             <td>Least Squares</td>  <th>  F-statistic:       </th> <td>   4407.</td> \n",
              "</tr>\n",
              "<tr>\n",
              "  <th>Date:</th>             <td>Fri, 15 May 2020</td> <th>  Prob (F-statistic):</th>  <td>  0.00</td>  \n",
              "</tr>\n",
              "<tr>\n",
              "  <th>Time:</th>                 <td>20:56:07</td>     <th>  Log-Likelihood:    </th> <td> -34945.</td> \n",
              "</tr>\n",
              "<tr>\n",
              "  <th>No. Observations:</th>      <td> 80521</td>      <th>  AIC:               </th> <td>6.994e+04</td>\n",
              "</tr>\n",
              "<tr>\n",
              "  <th>Df Residuals:</th>          <td> 80496</td>      <th>  BIC:               </th> <td>7.017e+04</td>\n",
              "</tr>\n",
              "<tr>\n",
              "  <th>Df Model:</th>              <td>    24</td>      <th>                     </th>     <td> </td>    \n",
              "</tr>\n",
              "<tr>\n",
              "  <th>Covariance Type:</th>      <td>nonrobust</td>    <th>                     </th>     <td> </td>    \n",
              "</tr>\n",
              "</table>\n",
              "<table class=\"simpletable\">\n",
              "<tr>\n",
              "              <td></td>                 <th>coef</th>     <th>std err</th>      <th>t</th>      <th>P>|t|</th>  <th>[0.025</th>    <th>0.975]</th>  \n",
              "</tr>\n",
              "<tr>\n",
              "  <th>const</th>                     <td>    4.7892</td> <td>    0.085</td> <td>   56.436</td> <td> 0.000</td> <td>    4.623</td> <td>    4.956</td>\n",
              "</tr>\n",
              "<tr>\n",
              "  <th>Agency</th>                    <td>    0.0603</td> <td>    0.012</td> <td>    4.827</td> <td> 0.000</td> <td>    0.036</td> <td>    0.085</td>\n",
              "</tr>\n",
              "<tr>\n",
              "  <th>nFloor</th>                    <td>    0.0109</td> <td>    0.000</td> <td>   23.664</td> <td> 0.000</td> <td>    0.010</td> <td>    0.012</td>\n",
              "</tr>\n",
              "<tr>\n",
              "  <th>Rooms</th>                     <td>    0.3214</td> <td>    0.002</td> <td>  191.401</td> <td> 0.000</td> <td>    0.318</td> <td>    0.325</td>\n",
              "</tr>\n",
              "<tr>\n",
              "  <th>sqm_per_room_av</th>           <td>    0.0158</td> <td>    0.000</td> <td>  102.211</td> <td> 0.000</td> <td>    0.015</td> <td>    0.016</td>\n",
              "</tr>\n",
              "<tr>\n",
              "  <th>Type_Այլ</th>                  <td>    0.0380</td> <td>    0.006</td> <td>    5.984</td> <td> 0.000</td> <td>    0.026</td> <td>    0.051</td>\n",
              "</tr>\n",
              "<tr>\n",
              "  <th>Type_Մոնոլիտ</th>              <td>    0.1864</td> <td>    0.005</td> <td>   39.932</td> <td> 0.000</td> <td>    0.177</td> <td>    0.196</td>\n",
              "</tr>\n",
              "<tr>\n",
              "  <th>Type_Պանելային</th>            <td>   -0.1273</td> <td>    0.004</td> <td>  -30.016</td> <td> 0.000</td> <td>   -0.136</td> <td>   -0.119</td>\n",
              "</tr>\n",
              "<tr>\n",
              "  <th>Source_my_realty</th>          <td>    0.1380</td> <td>    0.004</td> <td>   36.945</td> <td> 0.000</td> <td>    0.131</td> <td>    0.145</td>\n",
              "</tr>\n",
              "<tr>\n",
              "  <th>Source_real_estate</th>        <td>    0.0246</td> <td>    0.003</td> <td>    7.543</td> <td> 0.000</td> <td>    0.018</td> <td>    0.031</td>\n",
              "</tr>\n",
              "<tr>\n",
              "  <th>District_աջափնյակ</th>         <td>   -0.3230</td> <td>    0.084</td> <td>   -3.844</td> <td> 0.000</td> <td>   -0.488</td> <td>   -0.158</td>\n",
              "</tr>\n",
              "<tr>\n",
              "  <th>District_ավան</th>             <td>   -0.4255</td> <td>    0.084</td> <td>   -5.038</td> <td> 0.000</td> <td>   -0.591</td> <td>   -0.260</td>\n",
              "</tr>\n",
              "<tr>\n",
              "  <th>District_արաբկիր</th>          <td>   -0.1474</td> <td>    0.084</td> <td>   -1.762</td> <td> 0.078</td> <td>   -0.311</td> <td>    0.017</td>\n",
              "</tr>\n",
              "<tr>\n",
              "  <th>District_դավթաշեն</th>         <td>   -0.2664</td> <td>    0.084</td> <td>   -3.164</td> <td> 0.002</td> <td>   -0.431</td> <td>   -0.101</td>\n",
              "</tr>\n",
              "<tr>\n",
              "  <th>District_էրեբունի</th>         <td>   -0.3434</td> <td>    0.086</td> <td>   -3.988</td> <td> 0.000</td> <td>   -0.512</td> <td>   -0.175</td>\n",
              "</tr>\n",
              "<tr>\n",
              "  <th>District_կենտրոն</th>          <td>    0.1601</td> <td>    0.084</td> <td>    1.915</td> <td> 0.056</td> <td>   -0.004</td> <td>    0.324</td>\n",
              "</tr>\n",
              "<tr>\n",
              "  <th>District_մալաթիա</th>          <td>   -0.4452</td> <td>    0.084</td> <td>   -5.277</td> <td> 0.000</td> <td>   -0.611</td> <td>   -0.280</td>\n",
              "</tr>\n",
              "<tr>\n",
              "  <th>District_մալաթիա_սեբաստիա</th> <td>   -0.2272</td> <td>    0.097</td> <td>   -2.344</td> <td> 0.019</td> <td>   -0.417</td> <td>   -0.037</td>\n",
              "</tr>\n",
              "<tr>\n",
              "  <th>District_նոր_նորք</th>         <td>   -0.0363</td> <td>    0.093</td> <td>   -0.390</td> <td> 0.696</td> <td>   -0.219</td> <td>    0.146</td>\n",
              "</tr>\n",
              "<tr>\n",
              "  <th>District_նորք</th>             <td>   -0.4202</td> <td>    0.084</td> <td>   -4.989</td> <td> 0.000</td> <td>   -0.585</td> <td>   -0.255</td>\n",
              "</tr>\n",
              "<tr>\n",
              "  <th>District_շենգավիթ</th>         <td>   -0.3589</td> <td>    0.084</td> <td>   -4.248</td> <td> 0.000</td> <td>   -0.524</td> <td>   -0.193</td>\n",
              "</tr>\n",
              "<tr>\n",
              "  <th>District_քանաքեռ</th>          <td>   -0.3401</td> <td>    0.084</td> <td>   -4.027</td> <td> 0.000</td> <td>   -0.506</td> <td>   -0.175</td>\n",
              "</tr>\n",
              "<tr>\n",
              "  <th>District_քանաքեռ_զեյթուն</th>  <td>   -0.2955</td> <td>    0.087</td> <td>   -3.402</td> <td> 0.001</td> <td>   -0.466</td> <td>   -0.125</td>\n",
              "</tr>\n",
              "<tr>\n",
              "  <th>Month_March</th>               <td>    0.0193</td> <td>    0.003</td> <td>    5.934</td> <td> 0.000</td> <td>    0.013</td> <td>    0.026</td>\n",
              "</tr>\n",
              "<tr>\n",
              "  <th>Month_May</th>                 <td>    0.0093</td> <td>    0.003</td> <td>    2.902</td> <td> 0.004</td> <td>    0.003</td> <td>    0.016</td>\n",
              "</tr>\n",
              "</table>\n",
              "<table class=\"simpletable\">\n",
              "<tr>\n",
              "  <th>Omnibus:</th>       <td>77847.424</td> <th>  Durbin-Watson:     </th>   <td>   2.005</td>  \n",
              "</tr>\n",
              "<tr>\n",
              "  <th>Prob(Omnibus):</th>  <td> 0.000</td>   <th>  Jarque-Bera (JB):  </th> <td>12573594.872</td>\n",
              "</tr>\n",
              "<tr>\n",
              "  <th>Skew:</th>           <td> 4.286</td>   <th>  Prob(JB):          </th>   <td>    0.00</td>  \n",
              "</tr>\n",
              "<tr>\n",
              "  <th>Kurtosis:</th>       <td>63.615</td>   <th>  Cond. No.          </th>   <td>8.12e+03</td>  \n",
              "</tr>\n",
              "</table><br/><br/>Warnings:<br/>[1] Standard Errors assume that the covariance matrix of the errors is correctly specified.<br/>[2] The condition number is large, 8.12e+03. This might indicate that there are<br/>strong multicollinearity or other numerical problems."
            ],
            "text/plain": [
              "<class 'statsmodels.iolib.summary.Summary'>\n",
              "\"\"\"\n",
              "                            OLS Regression Results                            \n",
              "==============================================================================\n",
              "Dep. Variable:              Price_USD   R-squared:                       0.568\n",
              "Model:                            OLS   Adj. R-squared:                  0.568\n",
              "Method:                 Least Squares   F-statistic:                     4407.\n",
              "Date:                Fri, 15 May 2020   Prob (F-statistic):               0.00\n",
              "Time:                        20:56:07   Log-Likelihood:                -34945.\n",
              "No. Observations:               80521   AIC:                         6.994e+04\n",
              "Df Residuals:                   80496   BIC:                         7.017e+04\n",
              "Df Model:                          24                                         \n",
              "Covariance Type:            nonrobust                                         \n",
              "=============================================================================================\n",
              "                                coef    std err          t      P>|t|      [0.025      0.975]\n",
              "---------------------------------------------------------------------------------------------\n",
              "const                         4.7892      0.085     56.436      0.000       4.623       4.956\n",
              "Agency                        0.0603      0.012      4.827      0.000       0.036       0.085\n",
              "nFloor                        0.0109      0.000     23.664      0.000       0.010       0.012\n",
              "Rooms                         0.3214      0.002    191.401      0.000       0.318       0.325\n",
              "sqm_per_room_av               0.0158      0.000    102.211      0.000       0.015       0.016\n",
              "Type_Այլ                      0.0380      0.006      5.984      0.000       0.026       0.051\n",
              "Type_Մոնոլիտ                  0.1864      0.005     39.932      0.000       0.177       0.196\n",
              "Type_Պանելային               -0.1273      0.004    -30.016      0.000      -0.136      -0.119\n",
              "Source_my_realty              0.1380      0.004     36.945      0.000       0.131       0.145\n",
              "Source_real_estate            0.0246      0.003      7.543      0.000       0.018       0.031\n",
              "District_աջափնյակ            -0.3230      0.084     -3.844      0.000      -0.488      -0.158\n",
              "District_ավան                -0.4255      0.084     -5.038      0.000      -0.591      -0.260\n",
              "District_արաբկիր             -0.1474      0.084     -1.762      0.078      -0.311       0.017\n",
              "District_դավթաշեն            -0.2664      0.084     -3.164      0.002      -0.431      -0.101\n",
              "District_էրեբունի            -0.3434      0.086     -3.988      0.000      -0.512      -0.175\n",
              "District_կենտրոն              0.1601      0.084      1.915      0.056      -0.004       0.324\n",
              "District_մալաթիա             -0.4452      0.084     -5.277      0.000      -0.611      -0.280\n",
              "District_մալաթիա_սեբաստիա    -0.2272      0.097     -2.344      0.019      -0.417      -0.037\n",
              "District_նոր_նորք            -0.0363      0.093     -0.390      0.696      -0.219       0.146\n",
              "District_նորք                -0.4202      0.084     -4.989      0.000      -0.585      -0.255\n",
              "District_շենգավիթ            -0.3589      0.084     -4.248      0.000      -0.524      -0.193\n",
              "District_քանաքեռ             -0.3401      0.084     -4.027      0.000      -0.506      -0.175\n",
              "District_քանաքեռ_զեյթուն     -0.2955      0.087     -3.402      0.001      -0.466      -0.125\n",
              "Month_March                   0.0193      0.003      5.934      0.000       0.013       0.026\n",
              "Month_May                     0.0093      0.003      2.902      0.004       0.003       0.016\n",
              "==============================================================================\n",
              "Omnibus:                    77847.424   Durbin-Watson:                   2.005\n",
              "Prob(Omnibus):                  0.000   Jarque-Bera (JB):         12573594.872\n",
              "Skew:                           4.286   Prob(JB):                         0.00\n",
              "Kurtosis:                      63.615   Cond. No.                     8.12e+03\n",
              "==============================================================================\n",
              "\n",
              "Warnings:\n",
              "[1] Standard Errors assume that the covariance matrix of the errors is correctly specified.\n",
              "[2] The condition number is large, 8.12e+03. This might indicate that there are\n",
              "strong multicollinearity or other numerical problems.\n",
              "\"\"\""
            ]
          },
          "metadata": {
            "tags": []
          },
          "execution_count": 154
        }
      ]
    },
    {
      "cell_type": "code",
      "metadata": {
        "id": "GIur4XTCXWUB",
        "colab_type": "code",
        "colab": {}
      },
      "source": [
        "Y1_second=Y1\n",
        "X1_second=X1.drop([\"Floor\",\"Type_Կասետային\",\"Type_Քարե\"], axis=1)"
      ],
      "execution_count": 0,
      "outputs": []
    },
    {
      "cell_type": "code",
      "metadata": {
        "id": "8qpM3dzHXbgT",
        "colab_type": "code",
        "colab": {}
      },
      "source": [
        "Y0_linear_imp=results_1.predict(sm.add_constant(X0_second))\n",
        "Y1_linear_imp=results_1.predict(sm.add_constant(X1_second))"
      ],
      "execution_count": 0,
      "outputs": []
    },
    {
      "cell_type": "code",
      "metadata": {
        "id": "EVXAL5pkXc0N",
        "colab_type": "code",
        "outputId": "fe9f12b3-5224-4c1c-dcb6-bbbbe77ce389",
        "colab": {
          "base_uri": "https://localhost:8080/",
          "height": 51
        }
      },
      "source": [
        "MSE_train_imp = mean_squared_error(Y0_second, Y0_linear_imp)\n",
        "MSE_test_imp = mean_squared_error(Y1_second, Y1_linear_imp)\n",
        "print(\"MSE_train:\", MSE_train_imp)\n",
        "print(\"MSE_test:\", MSE_test_imp)"
      ],
      "execution_count": 157,
      "outputs": [
        {
          "output_type": "stream",
          "text": [
            "MSE_train: 0.13947061569551306\n",
            "MSE_test: 0.13902760420616872\n"
          ],
          "name": "stdout"
        }
      ]
    },
    {
      "cell_type": "code",
      "metadata": {
        "id": "ihF9uOVuXeHy",
        "colab_type": "code",
        "outputId": "a8577c11-f643-4250-bb6f-9de71f7ffb3c",
        "colab": {
          "base_uri": "https://localhost:8080/",
          "height": 51
        }
      },
      "source": [
        "RMSE_train_imp = sqrt(MSE_train_imp)\n",
        "RMSE_test_imp = sqrt(MSE_test_imp)\n",
        "print(\"RMSE_train:\", RMSE_train_imp)\n",
        "print(\"RMSE_test:\", RMSE_test_imp)"
      ],
      "execution_count": 158,
      "outputs": [
        {
          "output_type": "stream",
          "text": [
            "RMSE_train: 0.3734576491324191\n",
            "RMSE_test: 0.3728640559321436\n"
          ],
          "name": "stdout"
        }
      ]
    },
    {
      "cell_type": "code",
      "metadata": {
        "id": "j8Zhqiy0Xfbr",
        "colab_type": "code",
        "outputId": "0fa68f57-7c91-4663-ff22-1a8ecd71a5c6",
        "colab": {
          "base_uri": "https://localhost:8080/",
          "height": 51
        }
      },
      "source": [
        "#let's see r-squared for train and test sets for the initial model\n",
        "print(\"R-squared Train:\",r2_score(Y0_second,Y0_linear_imp))\n",
        "print(\"R-squared Test:\",r2_score(Y1_second,Y1_linear_imp))"
      ],
      "execution_count": 159,
      "outputs": [
        {
          "output_type": "stream",
          "text": [
            "R-squared Train: 0.56785364741215\n",
            "R-squared Test: 0.5729171340096801\n"
          ],
          "name": "stdout"
        }
      ]
    },
    {
      "cell_type": "markdown",
      "metadata": {
        "id": "Tkss9_H0MHBn",
        "colab_type": "text"
      },
      "source": [
        "**Interpreting the results**"
      ]
    },
    {
      "cell_type": "markdown",
      "metadata": {
        "id": "rYbTAfz5YpH0",
        "colab_type": "text"
      },
      "source": [
        "\n",
        "\n",
        "* **R-squared and F-statistics:** As Prob (F-statistic) is 0.00, it shows that our model is statistically significant at 5% significance level. This means that there is at least one estimated coefficient (besides intercept) that is not null. R-squared is not that big (56.8%). Thus, it shows that 56.8% of variance in log(Price_USD) is explained by the variables included in the model. \n",
        "* **Adj. R-squared:**As summary shows it's the same as R-squared, 56.8% which means that we have a very consistent model.  \n",
        "* Statistically significant variables: Statistically significant are those variables, which have p-value *smaller or equal* to 0.05. Thus, all variables, except District_արաբկիր (p-value = 0.078), District_նոր_նորք (p-value = 0.696), District_կենտրոն (p-value = 0.056), are statistically significant.\n",
        "\n",
        "\n",
        "*   **Coefficients (continuous variable):** Let's interpret for Rooms. For each unit increase in Rooms, we will experience on average about 0.3214 dollars increase in mean log(Price_USD) or 1 unit increase in Rooms leads to 100*0.3214=32.14% percent change in Price_USD. \n",
        "*   **Coefficients (categorical variable):** Let's interpret for District, subclass Kentron. If an apartment is located in Kentron rather than in \"Other\" district, then on average 0.1601 dollars increase is expected in mean log(Price_USD) or 16.01% percent change in Price_USD. If we take months, if an apartment was placed for rent in March rather than in April, then on average 0.0193 dollar increase is expected in log(Price_USD) or 1.93% percent change in Price_USD.\n",
        "\n",
        "\n",
        "\n"
      ]
    },
    {
      "cell_type": "markdown",
      "metadata": {
        "id": "gC9mL4EjlfV7",
        "colab_type": "text"
      },
      "source": [
        "**Final Model**"
      ]
    },
    {
      "cell_type": "markdown",
      "metadata": {
        "id": "kIOUUeiWlhu9",
        "colab_type": "text"
      },
      "source": [
        "log(Price_USD) = 4.7892\t+ 0.0603 * Agency + 0.0109 * nFloor + 0.3214 * Rooms + 0.0158 * sqm_per_room_av + 0.0380 * Type_Այլ + 0.1864 * Type_Մոնոլիտ - 0.1273 * Type_Պանելային + 0.1380 * Source_my_realty + 0.0246 * Source_real_estate - 0.3230 * District_աջափնյակ - 0.4255 * District_ավան - 0.1474 * District_արաբկիր - 0.2664\t* District_դավթաշեն - 0.3434 * District_էրեբունի + 0.1601 * District_կենտրոն - 0.4452 * District_մալաթիա - 0.2272 * District_մալաթիա_սեբաստիա - 0.0363 * District_նոր_նորք - 0.4202 * District_նորք - 0.3589 * District_շենգավիթ - 0.3401 * District_քանաքեռ - 0.2955 * District_քանաքեռ_զեյթուն + 0.0193 * Month_March + 0.0093 * Month_May\n"
      ]
    },
    {
      "cell_type": "markdown",
      "metadata": {
        "id": "gPW16rc_6gHR",
        "colab_type": "text"
      },
      "source": [
        "We've decided to take 1st and 3rd cases to see whether they are under or over priced."
      ]
    },
    {
      "cell_type": "markdown",
      "metadata": {
        "id": "Ag1u_8MC6oAy",
        "colab_type": "text"
      },
      "source": [
        "**1st Case**\n",
        "log(Price_USD) = 4.7892 + 0.0603 * 1 + 0.0109 * 5 + 0.3214 * 1 + 0.0158 * 55 + 0.0380 * 0 + 0.1864 * 0 - 0.1273 * 0 + 0.1380 * 1 + 0.0246 * 0 - 0.3230 * 0 - 0.4255 * 0 - 0.1474 * 0 - 0.2664 * 0 - 0.3434 * 0 + 0.1601 * 1 - 0.4452 * 0 - 0.2272 * 0 - 0.0363 * 0 - 0.4202 * 0 - 0.3589 * 0 - 0.3401 * 0 - 0.2955 * 0 + 0.0193 * 1 + 0.0093 * 0 = 6.4118 * 100 = 641.18 USD => The house was underpriced (370 USD)"
      ]
    },
    {
      "cell_type": "markdown",
      "metadata": {
        "id": "RM22EcKy9oFc",
        "colab_type": "text"
      },
      "source": [
        "**3rd Case**\n",
        "log(Price_USD) = 4.7892 + 0.0603 * 1 + 0.0109 * 16 + 0.3214 * 2 + 0.0158 * 50 + 0.0380 * 0 + 0.1864 * 0 - 0.1273 * 1 + 0.1380 * 1 + 0.0246 * 0 - 0.3230 * 0 - 0.4255 * 0 - 0.1474 * 0 - 0.2664 * 0 - 0.3434 * 0 + 0.1601 * 1 - 0.4452 * 0 - 0.2272 * 0 - 0.0363 * 0 - 0.4202 * 0 - 0.3589 * 0 - 0.3401 * 0 - 0.2955 * 0 + 0.0193 * 1 + 0.0093 * 0 = 8.0715 * 100 = 807.15 USD => The house was overpriced (1200 USD)"
      ]
    },
    {
      "cell_type": "markdown",
      "metadata": {
        "id": "wg_dGEXBAE3a",
        "colab_type": "text"
      },
      "source": [
        "We multiply our result by 100 as the equation is for log(Price_USD) not Price_USD"
      ]
    },
    {
      "cell_type": "markdown",
      "metadata": {
        "id": "-8njzpr_Mn3B",
        "colab_type": "text"
      },
      "source": [
        "\n",
        "**Chechking LR assumptions using residual analysis (visual evidence)**"
      ]
    },
    {
      "cell_type": "code",
      "metadata": {
        "id": "A17poufO9gS7",
        "colab_type": "code",
        "colab": {}
      },
      "source": [
        "#To check the assumptions using residual analysis we will plot the fitted values vs error terms (residuals). \n",
        "#It should not exhibit any patterns (should be randomly distributed) to meet the Linearity, Normality and Independence assumptions."
      ],
      "execution_count": 0,
      "outputs": []
    },
    {
      "cell_type": "code",
      "metadata": {
        "id": "LP6RIdw49gPk",
        "colab_type": "code",
        "outputId": "e31c0231-8b3c-4dfa-9cc1-035b149d5c09",
        "colab": {
          "base_uri": "https://localhost:8080/",
          "height": 204
        }
      },
      "source": [
        "#residuals of the model\n",
        "residuals=results.resid\n",
        "residuals.head(10)"
      ],
      "execution_count": 161,
      "outputs": [
        {
          "output_type": "execute_result",
          "data": {
            "text/plain": [
              "38964   -0.205952\n",
              "36277    0.216082\n",
              "4105    -0.078906\n",
              "7292    -0.018597\n",
              "10014   -0.303223\n",
              "32732   -0.718993\n",
              "10889   -0.107598\n",
              "33049    0.052145\n",
              "7546     0.129516\n",
              "39266    0.055087\n",
              "dtype: float64"
            ]
          },
          "metadata": {
            "tags": []
          },
          "execution_count": 161
        }
      ]
    },
    {
      "cell_type": "code",
      "metadata": {
        "id": "VJceGbK99gMY",
        "colab_type": "code",
        "colab": {}
      },
      "source": [
        "#let's actually get residual values\n",
        "#first, we need to get predicted values from the results of the model\n",
        "#second, we should calculate the difference between predicted and true values of cons. conf. index\n",
        "predicted_values=results.predict()"
      ],
      "execution_count": 0,
      "outputs": []
    },
    {
      "cell_type": "code",
      "metadata": {
        "id": "PbltzyVw9gIt",
        "colab_type": "code",
        "outputId": "f26d62a5-b065-4b28-f397-2c18e7871afb",
        "colab": {
          "base_uri": "https://localhost:8080/",
          "height": 350
        }
      },
      "source": [
        "#lets plot predicted values vs residuals\n",
        "plt.figure(figsize=(10,5))\n",
        "plt.scatter(predicted_values,residuals)\n",
        "plt.axhline(y=0, c=\"red\")\n",
        "plt.title(\"Residuals vs Predicted values\")\n",
        "plt.ylabel(\"Residuals\")\n",
        "plt.xlabel(\"Predicted values\")\n",
        "plt.show()"
      ],
      "execution_count": 163,
      "outputs": [
        {
          "output_type": "display_data",
          "data": {
            "image/png": "[encoded data removed]",
            "text/plain": [
              "<Figure size 720x360 with 1 Axes>"
            ]
          },
          "metadata": {
            "tags": [],
            "needs_background": "light"
          }
        }
      ]
    },
    {
      "cell_type": "markdown",
      "metadata": {
        "id": "uge-Qs1IO70J",
        "colab_type": "text"
      },
      "source": [
        "As we can see, there is no specific pattern, however many outliers and residuals are focused in one area. In order to make right decisions,  the visual evidence in this case is not enough to make conclusions."
      ]
    },
    {
      "cell_type": "code",
      "metadata": {
        "id": "I9sabs059gFY",
        "colab_type": "code",
        "outputId": "3685b1ad-c9f4-4baa-d3ee-9541480f1d53",
        "colab": {
          "base_uri": "https://localhost:8080/",
          "height": 527
        }
      },
      "source": [
        "#Normality\n",
        "#visual presentation- histogram\n",
        "sns.distplot(residuals)\n",
        "plt.show()\n",
        "\n",
        "#QQ plot\n",
        "qqplot(residuals,fit=True, line='45')\n",
        "plt.show()"
      ],
      "execution_count": 164,
      "outputs": [
        {
          "output_type": "display_data",
          "data": {
            "image/png": "[encoded data removed]",
            "text/plain": [
              "<Figure size 432x288 with 1 Axes>"
            ]
          },
          "metadata": {
            "tags": [],
            "needs_background": "light"
          }
        },
        {
          "output_type": "display_data",
          "data": {
            "image/png": "[encoded data removed]",
            "text/plain": [
              "<Figure size 432x288 with 1 Axes>"
            ]
          },
          "metadata": {
            "tags": [],
            "needs_background": "light"
          }
        }
      ]
    },
    {
      "cell_type": "markdown",
      "metadata": {
        "id": "lxNout0bO_2C",
        "colab_type": "text"
      },
      "source": [
        "The residuals distribution plot shows that the distribution is pretty much bell-shaped, so based on the plot only we can say that the normality assumption is held. \n",
        "QQ-plot shows that the there are many outliers, the graph start with few outliers below the line, then for some period the dots are on the line, however, in the end, they are above the line."
      ]
    },
    {
      "cell_type": "markdown",
      "metadata": {
        "id": "pYE7uYOpBhgv",
        "colab_type": "text"
      },
      "source": [
        "**Diagnostic Tests for LINE Assumptions**"
      ]
    },
    {
      "cell_type": "code",
      "metadata": {
        "id": "flK_29Or9gBr",
        "colab_type": "code",
        "outputId": "0d27add4-3f64-421c-933f-7438b8957102",
        "colab": {
          "base_uri": "https://localhost:8080/",
          "height": 34
        }
      },
      "source": [
        "#Linearity \n",
        "#The null hypothesis assumes that the regression is correctly modelled as linear\n",
        "rnames=[\"fstat\", \"p-value\"]\n",
        "rainbow=linear_rainbow(results)\n",
        "print(list(zip(rnames, rainbow)))"
      ],
      "execution_count": 165,
      "outputs": [
        {
          "output_type": "stream",
          "text": [
            "[('fstat', 1.0579831773803736), ('p-value', 7.867340295541984e-09)]\n"
          ],
          "name": "stdout"
        }
      ]
    },
    {
      "cell_type": "markdown",
      "metadata": {
        "id": "lIlou7IDPRve",
        "colab_type": "text"
      },
      "source": [
        "As we have a small p-value, the linearity assumption is not held."
      ]
    },
    {
      "cell_type": "code",
      "metadata": {
        "id": "OnJi1wygBvnn",
        "colab_type": "code",
        "colab": {}
      },
      "source": [
        "#Independence"
      ],
      "execution_count": 0,
      "outputs": []
    },
    {
      "cell_type": "markdown",
      "metadata": {
        "id": "6qboIbAmCCRn",
        "colab_type": "text"
      },
      "source": [
        "As we have checked above, there is no multicollinearity between the variables, because we removed the ones that were creating multicollinearity problem."
      ]
    },
    {
      "cell_type": "code",
      "metadata": {
        "id": "eQjFRNMx9f6j",
        "colab_type": "code",
        "outputId": "3d5be0b4-b053-4b28-981f-c7afa8fe63ad",
        "colab": {
          "base_uri": "https://localhost:8080/",
          "height": 68
        }
      },
      "source": [
        "#Shapiro-Wilk normality test. \n",
        "#The null-hypothesis of this test is that the data was drawn from a normal distribution\n",
        "snames=['The test statistic', 'p-value']\n",
        "shapirotest=shapiro(residuals)\n",
        "print(list(zip(snames, shapirotest)))"
      ],
      "execution_count": 167,
      "outputs": [
        {
          "output_type": "stream",
          "text": [
            "[('The test statistic', 0.8076894879341125), ('p-value', 0.0)]\n"
          ],
          "name": "stdout"
        },
        {
          "output_type": "stream",
          "text": [
            "/usr/local/lib/python3.6/dist-packages/scipy/stats/morestats.py:1676: UserWarning: p-value may not be accurate for N > 5000.\n",
            "  warnings.warn(\"p-value may not be accurate for N > 5000.\")\n"
          ],
          "name": "stderr"
        }
      ]
    },
    {
      "cell_type": "markdown",
      "metadata": {
        "id": "bif1EVUJPsZN",
        "colab_type": "text"
      },
      "source": [
        "Test confirms that the data was not drawn from a normal distribution, as p-value<threshold"
      ]
    },
    {
      "cell_type": "code",
      "metadata": {
        "id": "ptRswEus9f-C",
        "colab_type": "code",
        "outputId": "21f32aaf-ef6f-4e55-c26e-3240f5bf0d25",
        "colab": {
          "base_uri": "https://localhost:8080/",
          "height": 34
        }
      },
      "source": [
        "#Breusch-Pagan test for equality (homoscedasticity)\n",
        "#The null hypothesis assumes homoskedasticity\n",
        "bnames = ['Lagrange multiplier statistic', 'p-value',\n",
        "        'f-value', 'f p-value']\n",
        "breush = het_breuschpagan(residuals, results.model.exog)\n",
        "print(list(zip(bnames, breush)))"
      ],
      "execution_count": 168,
      "outputs": [
        {
          "output_type": "stream",
          "text": [
            "[('Lagrange multiplier statistic', 549.4334109620933), ('p-value', 9.228406638914792e-99), ('f-value', 20.482068368235144), ('f p-value', 3.951267036609565e-99)]\n"
          ],
          "name": "stdout"
        }
      ]
    },
    {
      "cell_type": "markdown",
      "metadata": {
        "id": "qIcPSO6zPjQN",
        "colab_type": "text"
      },
      "source": [
        "We reject the null hypothesis based on 5% significance level, thus homoscedasticity assumption is not hold. p-value is significantly smaller than our significance level threshold."
      ]
    },
    {
      "cell_type": "markdown",
      "metadata": {
        "id": "BO4ypO0JWre_",
        "colab_type": "text"
      },
      "source": [
        "##Decision Tree"
      ]
    },
    {
      "cell_type": "code",
      "metadata": {
        "id": "7hvqOhjYWuLF",
        "colab_type": "code",
        "colab": {}
      },
      "source": [
        "param_dt = {\"max_depth\":range(1,15),\"min_samples_leaf\":range(10,125,5)}"
      ],
      "execution_count": 0,
      "outputs": []
    },
    {
      "cell_type": "code",
      "metadata": {
        "id": "BMeGya9wWwYW",
        "colab_type": "code",
        "outputId": "19cda450-5f05-403b-d071-3d308f1fc201",
        "colab": {
          "base_uri": "https://localhost:8080/",
          "height": 289
        }
      },
      "source": [
        "#Cross-Validated Gridsearch \n",
        "gs_dt = GridSearchCV(estimator=DecisionTreeRegressor(random_state=42), param_grid=param_dt,cv=3, scoring=\"neg_mean_squared_error\")\n",
        "gs_dt.fit(X0_second, Y0_second)"
      ],
      "execution_count": 0,
      "outputs": [
        {
          "output_type": "execute_result",
          "data": {
            "text/plain": [
              "GridSearchCV(cv=3, error_score=nan,\n",
              "             estimator=DecisionTreeRegressor(ccp_alpha=0.0, criterion='mse',\n",
              "                                             max_depth=None, max_features=None,\n",
              "                                             max_leaf_nodes=None,\n",
              "                                             min_impurity_decrease=0.0,\n",
              "                                             min_impurity_split=None,\n",
              "                                             min_samples_leaf=1,\n",
              "                                             min_samples_split=2,\n",
              "                                             min_weight_fraction_leaf=0.0,\n",
              "                                             presort='deprecated',\n",
              "                                             random_state=42, splitter='best'),\n",
              "             iid='deprecated', n_jobs=None,\n",
              "             param_grid={'max_depth': range(1, 15),\n",
              "                         'min_samples_leaf': range(10, 125, 5)},\n",
              "             pre_dispatch='2*n_jobs', refit=True, return_train_score=False,\n",
              "             scoring='neg_mean_squared_error', verbose=0)"
            ]
          },
          "metadata": {
            "tags": []
          },
          "execution_count": 66
        }
      ]
    },
    {
      "cell_type": "code",
      "metadata": {
        "id": "XaRNCjO7Wyor",
        "colab_type": "code",
        "outputId": "f20ad8e8-2a1f-4ff4-eb46-1ebb5436b73b",
        "colab": {
          "base_uri": "https://localhost:8080/",
          "height": 34
        }
      },
      "source": [
        "#Seeing the best parameters\n",
        "gs_dt.best_params_"
      ],
      "execution_count": 0,
      "outputs": [
        {
          "output_type": "execute_result",
          "data": {
            "text/plain": [
              "{'max_depth': 14, 'min_samples_leaf': 20}"
            ]
          },
          "metadata": {
            "tags": []
          },
          "execution_count": 67
        }
      ]
    },
    {
      "cell_type": "code",
      "metadata": {
        "id": "P4swfdBsW0bm",
        "colab_type": "code",
        "colab": {}
      },
      "source": [
        "#fitting the model with best parameters\n",
        "dt_grid = DecisionTreeRegressor(max_depth=14,\n",
        "                             min_samples_leaf=10, random_state=42).fit(X0_second, Y0_second)"
      ],
      "execution_count": 0,
      "outputs": []
    },
    {
      "cell_type": "code",
      "metadata": {
        "id": "fqYotpxSW2VG",
        "colab_type": "code",
        "colab": {}
      },
      "source": [
        "#getting probabilities\n",
        "Y0_dt_grid = dt_grid.predict(X0_second)\n",
        "Y1_dt_grid = dt_grid.predict(X1_second)"
      ],
      "execution_count": 0,
      "outputs": []
    },
    {
      "cell_type": "code",
      "metadata": {
        "id": "PUm17CJ5W30n",
        "colab_type": "code",
        "outputId": "800bece0-d381-44f9-ca2b-2e82c84c8a56",
        "colab": {
          "base_uri": "https://localhost:8080/",
          "height": 51
        }
      },
      "source": [
        "#MSE for DT\n",
        "MSE_train_dt_grid = mean_squared_error(Y0_second, Y0_dt_grid)\n",
        "MSE_test_dt_grid = mean_squared_error(Y1_second, Y1_dt_grid)\n",
        "print(\"MSE_train_dt:\", MSE_train_dt_grid)\n",
        "print(\"MSE_test_dt:\", MSE_test_dt_grid)"
      ],
      "execution_count": 0,
      "outputs": [
        {
          "output_type": "stream",
          "text": [
            "MSE_train_dt: 0.10497903785122663\n",
            "MSE_test_dt: 0.11928737127470451\n"
          ],
          "name": "stdout"
        }
      ]
    },
    {
      "cell_type": "code",
      "metadata": {
        "id": "r10wgaGuW54_",
        "colab_type": "code",
        "outputId": "1e7ede81-1511-4454-8543-66ed3254877c",
        "colab": {
          "base_uri": "https://localhost:8080/",
          "height": 51
        }
      },
      "source": [
        "#RMSE for DT\n",
        "RMSE_train_dt_grid = sqrt(MSE_train_dt_grid)\n",
        "RMSE_test_dt_grid = sqrt(MSE_test_dt_grid)\n",
        "print(\"RMSE_train_dt:\", RMSE_train_dt_grid)\n",
        "print(\"RMSE_test_dt:\", RMSE_test_dt_grid)"
      ],
      "execution_count": 0,
      "outputs": [
        {
          "output_type": "stream",
          "text": [
            "RMSE_train_dt: 0.3240046880081006\n",
            "RMSE_test_dt: 0.34538003890599195\n"
          ],
          "name": "stdout"
        }
      ]
    },
    {
      "cell_type": "code",
      "metadata": {
        "id": "iJ6FDuqUW7Tj",
        "colab_type": "code",
        "outputId": "d9210a62-6b47-48bf-d223-d67c757445fe",
        "colab": {
          "base_uri": "https://localhost:8080/",
          "height": 51
        }
      },
      "source": [
        "#let's see r-squared for train and test sets for the model\n",
        "print(\"R-squared Train:\", r2_score(Y0_second, Y0_dt_grid))\n",
        "print(\"R-squared Test:\", r2_score(Y1_second, Y1_dt_grid))"
      ],
      "execution_count": 0,
      "outputs": [
        {
          "output_type": "stream",
          "text": [
            "R-squared Train: 0.6747249728600078\n",
            "R-squared Test: 0.6335577190490658\n"
          ],
          "name": "stdout"
        }
      ]
    },
    {
      "cell_type": "markdown",
      "metadata": {
        "id": "wUZm1tLYXi31",
        "colab_type": "text"
      },
      "source": [
        "##Random Forest"
      ]
    },
    {
      "cell_type": "code",
      "metadata": {
        "id": "1gGQOqWwXmph",
        "colab_type": "code",
        "colab": {}
      },
      "source": [
        "param_gf = {\"max_depth\":range(1,15),\"min_samples_leaf\":range(10,125,5)}"
      ],
      "execution_count": 0,
      "outputs": []
    },
    {
      "cell_type": "code",
      "metadata": {
        "id": "D40N4TFVXoYU",
        "colab_type": "code",
        "outputId": "369d514e-34b8-40e8-e885-41cfd2d8cd21",
        "colab": {
          "base_uri": "https://localhost:8080/",
          "height": 340
        }
      },
      "source": [
        "#Cross-Validated Gridsearch \n",
        "gs_rf = GridSearchCV(estimator=RandomForestRegressor(random_state=42), param_grid=param_dt,cv=3, scoring=\"neg_mean_squared_error\")\n",
        "gs_rf.fit(X0_second, Y0_second)"
      ],
      "execution_count": 0,
      "outputs": [
        {
          "output_type": "execute_result",
          "data": {
            "text/plain": [
              "GridSearchCV(cv=3, error_score=nan,\n",
              "             estimator=RandomForestRegressor(bootstrap=True, ccp_alpha=0.0,\n",
              "                                             criterion='mse', max_depth=None,\n",
              "                                             max_features='auto',\n",
              "                                             max_leaf_nodes=None,\n",
              "                                             max_samples=None,\n",
              "                                             min_impurity_decrease=0.0,\n",
              "                                             min_impurity_split=None,\n",
              "                                             min_samples_leaf=1,\n",
              "                                             min_samples_split=2,\n",
              "                                             min_weight_fraction_leaf=0.0,\n",
              "                                             n_estimators=100, n_jobs=None,\n",
              "                                             oob_score=False, random_state=42,\n",
              "                                             verbose=0, warm_start=False),\n",
              "             iid='deprecated', n_jobs=None,\n",
              "             param_grid={'max_depth': range(1, 15),\n",
              "                         'min_samples_leaf': range(10, 125, 5)},\n",
              "             pre_dispatch='2*n_jobs', refit=True, return_train_score=False,\n",
              "             scoring='neg_mean_squared_error', verbose=0)"
            ]
          },
          "metadata": {
            "tags": []
          },
          "execution_count": 74
        }
      ]
    },
    {
      "cell_type": "code",
      "metadata": {
        "id": "yEX0e-xcXrAO",
        "colab_type": "code",
        "outputId": "87bacebc-ec8b-4ffc-db23-ea32765b89a5",
        "colab": {
          "base_uri": "https://localhost:8080/",
          "height": 34
        }
      },
      "source": [
        "#Seeing the best parameters\n",
        "gs_rf.best_params_"
      ],
      "execution_count": 0,
      "outputs": [
        {
          "output_type": "execute_result",
          "data": {
            "text/plain": [
              "{'max_depth': 14, 'min_samples_leaf': 10}"
            ]
          },
          "metadata": {
            "tags": []
          },
          "execution_count": 75
        }
      ]
    },
    {
      "cell_type": "code",
      "metadata": {
        "id": "aJTuHBrqbijp",
        "colab_type": "code",
        "colab": {}
      },
      "source": [
        "#fitting the model with best parameters\n",
        "rf_grid=RandomForestRegressor(max_depth=14, min_samples_leaf=10, random_state=42).fit(X0_second,Y0_second)"
      ],
      "execution_count": 0,
      "outputs": []
    },
    {
      "cell_type": "code",
      "metadata": {
        "id": "fGKje4yzcYi4",
        "colab_type": "code",
        "colab": {}
      },
      "source": [
        "#getting probabilities\n",
        "Y0_rf_grid=rf_grid.predict(X0_second)\n",
        "Y1_rf_grid=rf_grid.predict(X1_second)"
      ],
      "execution_count": 0,
      "outputs": []
    },
    {
      "cell_type": "code",
      "metadata": {
        "id": "XJmH5zrvXtMy",
        "colab_type": "code",
        "outputId": "42df7dcb-8ec9-43d4-aa53-dec8eca9054b",
        "colab": {
          "base_uri": "https://localhost:8080/",
          "height": 51
        }
      },
      "source": [
        "#MSE for RF\n",
        "MSE_train_rf_grid = mean_squared_error(Y0_second, Y0_rf_grid)\n",
        "MSE_test_rf_grid = mean_squared_error(Y1_second, Y1_rf_grid)\n",
        "print(\"MSE_train_rf:\", MSE_train_rf_grid)\n",
        "print(\"MSE_test_rf:\", MSE_test_rf_grid)"
      ],
      "execution_count": 0,
      "outputs": [
        {
          "output_type": "stream",
          "text": [
            "MSE_train_rf: 0.1027494664568522\n",
            "MSE_test_rf: 0.11448767385889673\n"
          ],
          "name": "stdout"
        }
      ]
    },
    {
      "cell_type": "code",
      "metadata": {
        "id": "715XgTZiXwPw",
        "colab_type": "code",
        "outputId": "9a77cfb5-9787-42da-d243-5c71f34e8f51",
        "colab": {
          "base_uri": "https://localhost:8080/",
          "height": 51
        }
      },
      "source": [
        "#RMSE for RF\n",
        "RMSE_train_rf_grid = sqrt(MSE_train_rf_grid)\n",
        "RMSE_test_rf_grid = sqrt(MSE_test_rf_grid)\n",
        "print(\"RMSE_train_rf:\", RMSE_train_rf_grid)\n",
        "print(\"RMSE_test_rf:\", RMSE_test_rf_grid)"
      ],
      "execution_count": 0,
      "outputs": [
        {
          "output_type": "stream",
          "text": [
            "RMSE_train_rf: 0.3205455762553154\n",
            "RMSE_test_rf: 0.33836027228221804\n"
          ],
          "name": "stdout"
        }
      ]
    },
    {
      "cell_type": "code",
      "metadata": {
        "id": "F-yTn_TXX3nI",
        "colab_type": "code",
        "outputId": "cb1e8b88-00c8-4849-bfdf-0de5aea0f83a",
        "colab": {
          "base_uri": "https://localhost:8080/",
          "height": 51
        }
      },
      "source": [
        "#let's see r-squared for train and test sets for the model\n",
        "print(\"R-squared Train:\", r2_score(Y0_second, Y0_rf_grid))\n",
        "print(\"R-squared Test:\", r2_score(Y1_second, Y1_rf_grid))"
      ],
      "execution_count": 0,
      "outputs": [
        {
          "output_type": "stream",
          "text": [
            "R-squared Train: 0.6816332462702047\n",
            "R-squared Test: 0.6483020465510322\n"
          ],
          "name": "stdout"
        }
      ]
    },
    {
      "cell_type": "markdown",
      "metadata": {
        "id": "VkZaQtQQX5au",
        "colab_type": "text"
      },
      "source": [
        "###Gradient Boosting"
      ]
    },
    {
      "cell_type": "code",
      "metadata": {
        "id": "SExkwnMzX8tj",
        "colab_type": "code",
        "colab": {}
      },
      "source": [
        "param_gb = {\"max_depth\":range(1,15),\"min_samples_leaf\":range(10,125,5)}"
      ],
      "execution_count": 0,
      "outputs": []
    },
    {
      "cell_type": "code",
      "metadata": {
        "id": "acq0XSCbX-af",
        "colab_type": "code",
        "outputId": "582ca962-aeb0-46c4-8215-6758172bd331",
        "colab": {
          "base_uri": "https://localhost:8080/",
          "height": 340
        }
      },
      "source": [
        "#Cross-Validated Gridsearch \n",
        "gs_gb = GridSearchCV(estimator=RandomForestRegressor(random_state=42), param_grid=param_gb,cv=3, scoring=\"neg_mean_squared_error\")\n",
        "gs_gb.fit(X0_second, Y0_second)"
      ],
      "execution_count": 0,
      "outputs": [
        {
          "output_type": "execute_result",
          "data": {
            "text/plain": [
              "GridSearchCV(cv=3, error_score=nan,\n",
              "             estimator=RandomForestRegressor(bootstrap=True, ccp_alpha=0.0,\n",
              "                                             criterion='mse', max_depth=None,\n",
              "                                             max_features='auto',\n",
              "                                             max_leaf_nodes=None,\n",
              "                                             max_samples=None,\n",
              "                                             min_impurity_decrease=0.0,\n",
              "                                             min_impurity_split=None,\n",
              "                                             min_samples_leaf=1,\n",
              "                                             min_samples_split=2,\n",
              "                                             min_weight_fraction_leaf=0.0,\n",
              "                                             n_estimators=100, n_jobs=None,\n",
              "                                             oob_score=False, random_state=42,\n",
              "                                             verbose=0, warm_start=False),\n",
              "             iid='deprecated', n_jobs=None,\n",
              "             param_grid={'max_depth': range(1, 15),\n",
              "                         'min_samples_leaf': range(10, 125, 5)},\n",
              "             pre_dispatch='2*n_jobs', refit=True, return_train_score=False,\n",
              "             scoring='neg_mean_squared_error', verbose=0)"
            ]
          },
          "metadata": {
            "tags": []
          },
          "execution_count": 90
        }
      ]
    },
    {
      "cell_type": "code",
      "metadata": {
        "id": "7RgcGbmSX_vS",
        "colab_type": "code",
        "outputId": "b2661276-f4a5-468f-f597-9d639097a239",
        "colab": {
          "base_uri": "https://localhost:8080/",
          "height": 34
        }
      },
      "source": [
        "#Seeing the best parameters\n",
        "gs_gb.best_params_"
      ],
      "execution_count": 0,
      "outputs": [
        {
          "output_type": "execute_result",
          "data": {
            "text/plain": [
              "{'max_depth': 14, 'min_samples_leaf': 10}"
            ]
          },
          "metadata": {
            "tags": []
          },
          "execution_count": 91
        }
      ]
    },
    {
      "cell_type": "code",
      "metadata": {
        "id": "HLFC4B6cYBd9",
        "colab_type": "code",
        "colab": {}
      },
      "source": [
        "#fitting the model with best parameters\n",
        "gb_grid=GradientBoostingRegressor(max_depth=14,\n",
        "                             min_samples_leaf=10, random_state=42).fit(X0_second, Y0_second)"
      ],
      "execution_count": 0,
      "outputs": []
    },
    {
      "cell_type": "code",
      "metadata": {
        "id": "Z3f7wgbwYC3Z",
        "colab_type": "code",
        "colab": {}
      },
      "source": [
        "#getting probabilities\n",
        "Y0_gb_grid = gb_grid.predict(X0_second)\n",
        "Y1_gb_grid = gb_grid.predict(X1_second)"
      ],
      "execution_count": 0,
      "outputs": []
    },
    {
      "cell_type": "code",
      "metadata": {
        "id": "RMFg7fUtYEXe",
        "colab_type": "code",
        "outputId": "75a68c66-5861-4b0a-a3bf-8d719c12d6f2",
        "colab": {
          "base_uri": "https://localhost:8080/",
          "height": 51
        }
      },
      "source": [
        "#MSE for GB\n",
        "MSE_train_gb_grid = mean_squared_error(Y0_second, Y0_gb_grid)\n",
        "MSE_test_gb_grid = mean_squared_error(Y1_second, Y1_gb_grid)\n",
        "print(\"MSE_train_gb:\", MSE_train_gb_grid)\n",
        "print(\"MSE_test_gb:\", MSE_test_gb_grid)"
      ],
      "execution_count": 0,
      "outputs": [
        {
          "output_type": "stream",
          "text": [
            "MSE_train_gb: 0.07965335436460368\n",
            "MSE_test_gb: 0.10585205702470872\n"
          ],
          "name": "stdout"
        }
      ]
    },
    {
      "cell_type": "code",
      "metadata": {
        "id": "S4UjnTUlYF33",
        "colab_type": "code",
        "outputId": "c93af130-44fa-4ed5-f9f3-8afeead00ffb",
        "colab": {
          "base_uri": "https://localhost:8080/",
          "height": 51
        }
      },
      "source": [
        "#RMSE for GB\n",
        "RMSE_train_gb_grid = sqrt(MSE_train_gb_grid)\n",
        "RMSE_test_gb_grid = sqrt(MSE_test_gb_grid)\n",
        "print(\"RMSE_train_gb:\", RMSE_train_gb_grid)\n",
        "print(\"RMSE_test_gb:\", RMSE_test_gb_grid)"
      ],
      "execution_count": 0,
      "outputs": [
        {
          "output_type": "stream",
          "text": [
            "RMSE_train_gb: 0.28222925851974257\n",
            "RMSE_test_gb: 0.3253491309727271\n"
          ],
          "name": "stdout"
        }
      ]
    },
    {
      "cell_type": "code",
      "metadata": {
        "id": "YdA2v_ekYHQq",
        "colab_type": "code",
        "outputId": "450d930e-d7bc-4220-d05e-398641e9d9f4",
        "colab": {
          "base_uri": "https://localhost:8080/",
          "height": 51
        }
      },
      "source": [
        "#let's see r-squared for train and test sets for the initial model\n",
        "print(\"R-squared Train:\", r2_score(Y0_second, Y0_gb_grid))\n",
        "print(\"R-squared Test:\", r2_score(Y1_second, Y1_gb_grid))"
      ],
      "execution_count": 0,
      "outputs": [
        {
          "output_type": "stream",
          "text": [
            "R-squared Train: 0.7531959948094044\n",
            "R-squared Test: 0.6748300444130253\n"
          ],
          "name": "stdout"
        }
      ]
    },
    {
      "cell_type": "code",
      "metadata": {
        "id": "X9e-mqBEYI3E",
        "colab_type": "code",
        "outputId": "40e71ded-b23f-4e86-b215-24731133c038",
        "colab": {
          "base_uri": "https://localhost:8080/",
          "height": 204
        }
      },
      "source": [
        "# feature importances of gradient boosting regression\n",
        "feat_imp=pd.DataFrame(gb_grid.feature_importances_,index=X0_second.columns,\n",
        "                      columns=[\"Feature_imp\"])\n",
        "feat_imp=feat_imp.sort_values(by=\"Feature_imp\",ascending=False)\n",
        "feat_imp.head()"
      ],
      "execution_count": 0,
      "outputs": [
        {
          "output_type": "execute_result",
          "data": {
            "text/html": [
              "<div>\n",
              "<style scoped>\n",
              "    .dataframe tbody tr th:only-of-type {\n",
              "        vertical-align: middle;\n",
              "    }\n",
              "\n",
              "    .dataframe tbody tr th {\n",
              "        vertical-align: top;\n",
              "    }\n",
              "\n",
              "    .dataframe thead th {\n",
              "        text-align: right;\n",
              "    }\n",
              "</style>\n",
              "<table border=\"1\" class=\"dataframe\">\n",
              "  <thead>\n",
              "    <tr style=\"text-align: right;\">\n",
              "      <th></th>\n",
              "      <th>Feature_imp</th>\n",
              "    </tr>\n",
              "  </thead>\n",
              "  <tbody>\n",
              "    <tr>\n",
              "      <th>sqm_per_room_av</th>\n",
              "      <td>0.323912</td>\n",
              "    </tr>\n",
              "    <tr>\n",
              "      <th>Rooms</th>\n",
              "      <td>0.283725</td>\n",
              "    </tr>\n",
              "    <tr>\n",
              "      <th>District_կենտրոն</th>\n",
              "      <td>0.163316</td>\n",
              "    </tr>\n",
              "    <tr>\n",
              "      <th>nFloor</th>\n",
              "      <td>0.081577</td>\n",
              "    </tr>\n",
              "    <tr>\n",
              "      <th>Type_Մոնոլիտ</th>\n",
              "      <td>0.064639</td>\n",
              "    </tr>\n",
              "  </tbody>\n",
              "</table>\n",
              "</div>"
            ],
            "text/plain": [
              "                  Feature_imp\n",
              "sqm_per_room_av      0.323912\n",
              "Rooms                0.283725\n",
              "District_կենտրոն     0.163316\n",
              "nFloor               0.081577\n",
              "Type_Մոնոլիտ         0.064639"
            ]
          },
          "metadata": {
            "tags": []
          },
          "execution_count": 97
        }
      ]
    },
    {
      "cell_type": "code",
      "metadata": {
        "id": "k_MaUIIcYKSn",
        "colab_type": "code",
        "outputId": "90baaa66-f9c7-4655-b555-dabc78818497",
        "colab": {
          "base_uri": "https://localhost:8080/",
          "height": 281
        }
      },
      "source": [
        "# visualizing feature importances\n",
        "feat_imp.head(7).plot.barh()\n",
        "plt.title(\"Most important features\")\n",
        "plt.show()"
      ],
      "execution_count": 0,
      "outputs": [
        {
          "output_type": "display_data",
          "data": {
            "image/png": "[encoded data removed]",
            "text/plain": [
              "<Figure size 432x288 with 1 Axes>"
            ]
          },
          "metadata": {
            "tags": [],
            "needs_background": "light"
          }
        }
      ]
    },
    {
      "cell_type": "code",
      "metadata": {
        "id": "dXXmbN9e1xXk",
        "colab_type": "code",
        "colab": {}
      },
      "source": [
        ""
      ],
      "execution_count": 0,
      "outputs": []
    }
  ]
}